{
 "cells": [
  {
   "cell_type": "markdown",
   "id": "ae101144",
   "metadata": {},
   "source": [
    "# Correlation\n",
    "- Correlation measures association, but doesn't show if x causes y or vice versa\n",
    "- Correlation is a statistic that measures the degree to which two variables move in relation to each other.\n",
    "- In finance, the correlation can measure the movement of a stock with that of a benchmark index, such as the S&P 500.\n"
   ]
  },
  {
   "cell_type": "markdown",
   "id": "eae68324",
   "metadata": {},
   "source": [
    "### Formula\n",
    "- $r = \\frac{\\sum(X - \\bar{X})(Y - \\bar{Y})}{\\sqrt{\\sum(X - \\bar{X})^2 \\sum(Y - \\bar{Y})^2}}$\n",
    "- $r$: the correlation factor\n",
    "- $\\bar{X}$: the average observations of $X$\n",
    "- $\\bar{Y}$: the average observations of $Y$"
   ]
  },
  {
   "cell_type": "markdown",
   "id": "52363117",
   "metadata": {},
   "source": [
    "What does it mean?\n",
    "- $r$ ranges between -1 and 1 (both inclusive)\n",
    "- $r = 1$: Perfect positive correlation\n",
    "- $r = -1$: Perfect negative correlation\n",
    "- $r = 0$: No correlation at all"
   ]
  },
  {
   "cell_type": "markdown",
   "id": "dd50e0f4",
   "metadata": {},
   "source": [
    "### Resources\n",
    "- Correlation https://www.investopedia.com/terms/c/correlation.asp\n",
    "- SP500 by Market Cap https://www.slickcharts.com/sp500"
   ]
  },
  {
   "cell_type": "code",
   "execution_count": null,
   "id": "776a7fd4",
   "metadata": {},
   "outputs": [],
   "source": [
    "import pandas as pd\n",
    "import pandas_datareader as pdr\n",
    "import datetime as dt\n",
    "import numpy as np"
   ]
  },
  {
   "cell_type": "code",
   "execution_count": null,
   "id": "32009166",
   "metadata": {},
   "outputs": [],
   "source": [
    "tickers = ['AAPL', 'TWTR', 'IBM', 'MSFT']\n",
    "start = dt.datetime(2020, 1, 1)\n",
    "\n",
    "data = pdr.get_data_yahoo(tickers, start)"
   ]
  },
  {
   "cell_type": "code",
   "execution_count": null,
   "id": "9219b353",
   "metadata": {},
   "outputs": [],
   "source": [
    "data.head()"
   ]
  },
  {
   "cell_type": "code",
   "execution_count": null,
   "id": "7d61b5ef",
   "metadata": {},
   "outputs": [],
   "source": [
    "data = data['Adj Close']"
   ]
  },
  {
   "cell_type": "code",
   "execution_count": null,
   "id": "cf48967d",
   "metadata": {},
   "outputs": [],
   "source": [
    "data.head()"
   ]
  },
  {
   "cell_type": "code",
   "execution_count": null,
   "id": "20f0a332",
   "metadata": {},
   "outputs": [],
   "source": [
    "log_returns = np.log(data/data.shift())"
   ]
  },
  {
   "cell_type": "code",
   "execution_count": null,
   "id": "011cc03f",
   "metadata": {},
   "outputs": [],
   "source": [
    "log_returns"
   ]
  },
  {
   "cell_type": "code",
   "execution_count": null,
   "id": "4719020e",
   "metadata": {},
   "outputs": [],
   "source": [
    "log_returns.corr()"
   ]
  },
  {
   "cell_type": "code",
   "execution_count": null,
   "id": "d8de00e2",
   "metadata": {},
   "outputs": [],
   "source": [
    "sp500 = pdr.get_data_yahoo(\"^GSPC\", start)"
   ]
  },
  {
   "cell_type": "code",
   "execution_count": null,
   "id": "13947aaf",
   "metadata": {},
   "outputs": [],
   "source": [
    "log_returns['SP500'] = np.log(sp500['Adj Close']/sp500['Adj Close'].shift())"
   ]
  },
  {
   "cell_type": "code",
   "execution_count": null,
   "id": "e15febbc",
   "metadata": {},
   "outputs": [],
   "source": [
    "log_returns.corr()"
   ]
  },
  {
   "cell_type": "code",
   "execution_count": null,
   "id": "2c489431",
   "metadata": {},
   "outputs": [],
   "source": [
    "def test_correlation(ticker):\n",
    "    df = pdr.get_data_yahoo(ticker, start)\n",
    "    lr = log_returns.copy()\n",
    "    lr[ticker] = np.log(df['Adj Close']/df['Adj Close'].shift())\n",
    "    return lr.corr()"
   ]
  },
  {
   "cell_type": "code",
   "execution_count": null,
   "id": "d863630b",
   "metadata": {},
   "outputs": [],
   "source": [
    "test_correlation(\"LQD\")"
   ]
  },
  {
   "cell_type": "code",
   "execution_count": null,
   "id": "acdce688",
   "metadata": {
    "scrolled": true
   },
   "outputs": [],
   "source": [
    "test_correlation(\"TLT\")"
   ]
  },
  {
   "cell_type": "code",
   "execution_count": null,
   "id": "7dcf03dd",
   "metadata": {},
   "outputs": [],
   "source": [
    "import matplotlib.pyplot as plt\n",
    "%matplotlib notebook"
   ]
  },
  {
   "cell_type": "code",
   "execution_count": null,
   "id": "eaab88a7",
   "metadata": {},
   "outputs": [],
   "source": [
    "def visualize_correlation(ticker1, ticker2):\n",
    "    df = pdr.get_data_yahoo([ticker1, ticker2], start)\n",
    "    df = df['Adj Close']\n",
    "    df = df/df.iloc[0]\n",
    "    fig, ax = plt.subplots()\n",
    "    df.plot(ax=ax)"
   ]
  },
  {
   "cell_type": "code",
   "execution_count": null,
   "id": "793e5898",
   "metadata": {},
   "outputs": [],
   "source": [
    "visualize_correlation(\"AAPL\", \"TLT\")"
   ]
  },
  {
   "cell_type": "code",
   "execution_count": null,
   "id": "fbc7d5b1",
   "metadata": {},
   "outputs": [],
   "source": [
    "visualize_correlation(\"^GSPC\", \"TLT\")"
   ]
  },
  {
   "cell_type": "code",
   "execution_count": null,
   "id": "5090f64b",
   "metadata": {},
   "outputs": [],
   "source": []
  }
 ],
 "metadata": {
  "kernelspec": {
   "display_name": "Python 3 (ipykernel)",
   "language": "python",
   "name": "python3"
  },
  "language_info": {
   "codemirror_mode": {
    "name": "ipython",
    "version": 3
   },
   "file_extension": ".py",
   "mimetype": "text/x-python",
   "name": "python",
   "nbconvert_exporter": "python",
   "pygments_lexer": "ipython3",
   "version": "3.9.13"
  }
 },
 "nbformat": 4,
 "nbformat_minor": 5
}
