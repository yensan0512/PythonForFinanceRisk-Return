{
 "cells": [
  {
   "cell_type": "markdown",
   "id": "f22302bf",
   "metadata": {},
   "source": [
    "# Monte Carlo Simulation and Efficient Frontier\n",
    "- Introduction to Monte Carlo Simulation\n",
    "- Applying Monte Carlo Simulation on portfolios using Sharpe Ratio (from last lesson)\n",
    "- Creating Efficient Frontier based on Sharpe Ratio"
   ]
  },
  {
   "cell_type": "markdown",
   "id": "a90146c3",
   "metadata": {},
   "source": [
    "### Resources\n",
    "- Monte Carlo Simulation https://en.wikipedia.org/wiki/Monte_Carlo_method"
   ]
  },
  {
   "cell_type": "markdown",
   "id": "a69ee345",
   "metadata": {},
   "source": [
    "### Introduction to Monte Carlo Simulation"
   ]
  },
  {
   "cell_type": "code",
   "execution_count": null,
   "id": "1d2b0f9c",
   "metadata": {},
   "outputs": [],
   "source": [
    "import numpy as np"
   ]
  },
  {
   "cell_type": "code",
   "execution_count": null,
   "id": "e3c4930a",
   "metadata": {},
   "outputs": [],
   "source": [
    "def roll_dice():\n",
    "    return np.sum(np.random.randint(1, 7, 2))"
   ]
  },
  {
   "cell_type": "code",
   "execution_count": null,
   "id": "993d0af9",
   "metadata": {},
   "outputs": [],
   "source": [
    "roll_dice()"
   ]
  },
  {
   "cell_type": "code",
   "execution_count": null,
   "id": "131bd6e9",
   "metadata": {},
   "outputs": [],
   "source": [
    "def monte_carlo_simulation(runs=1000):\n",
    "    results = np.zeros(2)\n",
    "    for _ in range(runs):\n",
    "        if roll_dice() == 7:\n",
    "            results[0] += 1\n",
    "        else:\n",
    "            results[1] += 1\n",
    "    return results"
   ]
  },
  {
   "cell_type": "code",
   "execution_count": null,
   "id": "96f74ba9",
   "metadata": {},
   "outputs": [],
   "source": [
    "monte_carlo_simulation()"
   ]
  },
  {
   "cell_type": "code",
   "execution_count": null,
   "id": "e7883271",
   "metadata": {},
   "outputs": [],
   "source": [
    "np.zeros(2)"
   ]
  },
  {
   "cell_type": "code",
   "execution_count": null,
   "id": "87f9a1b0",
   "metadata": {},
   "outputs": [],
   "source": [
    "176*5"
   ]
  },
  {
   "cell_type": "code",
   "execution_count": null,
   "id": "a4de5ccf",
   "metadata": {},
   "outputs": [],
   "source": [
    "monte_carlo_simulation()"
   ]
  },
  {
   "cell_type": "code",
   "execution_count": null,
   "id": "cd5347c7",
   "metadata": {},
   "outputs": [],
   "source": [
    "171*5"
   ]
  },
  {
   "cell_type": "code",
   "execution_count": null,
   "id": "1c9dbfcc",
   "metadata": {},
   "outputs": [],
   "source": [
    "results = np.zeros(1000)\n",
    "\n",
    "for i in range(1000):\n",
    "    results[i] = monte_carlo_simulation()[0]"
   ]
  },
  {
   "cell_type": "code",
   "execution_count": null,
   "id": "b2597cb1",
   "metadata": {},
   "outputs": [],
   "source": [
    "import matplotlib.pyplot as plt\n",
    "%matplotlib notebook"
   ]
  },
  {
   "cell_type": "code",
   "execution_count": null,
   "id": "a1ea0536",
   "metadata": {},
   "outputs": [],
   "source": [
    "fig, ax = plt.subplots()\n",
    "ax.hist(results, bins=15)"
   ]
  },
  {
   "cell_type": "code",
   "execution_count": null,
   "id": "2fc1ef11",
   "metadata": {},
   "outputs": [],
   "source": [
    "results.mean()*5"
   ]
  },
  {
   "cell_type": "code",
   "execution_count": null,
   "id": "75db925b",
   "metadata": {},
   "outputs": [],
   "source": [
    "1000 - results.mean()"
   ]
  },
  {
   "cell_type": "code",
   "execution_count": null,
   "id": "ed4254bc",
   "metadata": {},
   "outputs": [],
   "source": [
    "results.mean()/1000"
   ]
  },
  {
   "cell_type": "code",
   "execution_count": null,
   "id": "62dde06d",
   "metadata": {},
   "outputs": [],
   "source": [
    "d1 = np.arange(1, 7)\n",
    "d2 = np.arange(1, 7)"
   ]
  },
  {
   "cell_type": "code",
   "execution_count": null,
   "id": "77872693",
   "metadata": {},
   "outputs": [],
   "source": [
    "mat = np.add.outer(d1, d2)"
   ]
  },
  {
   "cell_type": "code",
   "execution_count": null,
   "id": "241876cd",
   "metadata": {},
   "outputs": [],
   "source": [
    "mat"
   ]
  },
  {
   "cell_type": "code",
   "execution_count": null,
   "id": "cb2ee958",
   "metadata": {},
   "outputs": [],
   "source": [
    "mat.size"
   ]
  },
  {
   "cell_type": "code",
   "execution_count": null,
   "id": "4c27cd73",
   "metadata": {},
   "outputs": [],
   "source": [
    "mat[mat == 7].size"
   ]
  },
  {
   "cell_type": "code",
   "execution_count": null,
   "id": "d4148cfc",
   "metadata": {},
   "outputs": [],
   "source": [
    "mat[mat == 7].size/mat.size"
   ]
  },
  {
   "cell_type": "markdown",
   "id": "8bb2dd7c",
   "metadata": {},
   "source": [
    "### Monte Carlo Simulation with Portfolios and Sharpe Ratio"
   ]
  },
  {
   "cell_type": "code",
   "execution_count": null,
   "id": "fbe2f5e6",
   "metadata": {},
   "outputs": [],
   "source": [
    "import pandas_datareader as pdr\n",
    "import datetime as dt\n",
    "import pandas as pd"
   ]
  },
  {
   "cell_type": "code",
   "execution_count": null,
   "id": "f0f75eed",
   "metadata": {},
   "outputs": [],
   "source": [
    "tickers = ['AAPL', 'MSFT', 'TWTR', 'IBM']\n",
    "start = dt.datetime(2020, 1, 1)\n",
    "\n",
    "data = pdr.get_data_yahoo(tickers, start)"
   ]
  },
  {
   "cell_type": "code",
   "execution_count": null,
   "id": "d2c9b133",
   "metadata": {},
   "outputs": [],
   "source": [
    "data = data['Adj Close']"
   ]
  },
  {
   "cell_type": "code",
   "execution_count": null,
   "id": "c3ac6455",
   "metadata": {},
   "outputs": [],
   "source": [
    "data.head()"
   ]
  },
  {
   "cell_type": "code",
   "execution_count": null,
   "id": "5d44bc8d",
   "metadata": {},
   "outputs": [],
   "source": [
    "log_returns = np.log(data/data.shift())"
   ]
  },
  {
   "cell_type": "code",
   "execution_count": null,
   "id": "aed6ae35",
   "metadata": {},
   "outputs": [],
   "source": [
    "log_returns"
   ]
  },
  {
   "cell_type": "code",
   "execution_count": null,
   "id": "d51cc3e1",
   "metadata": {},
   "outputs": [],
   "source": [
    "weight = np.random.random(4)\n",
    "weight /= weight.sum()\n",
    "weight"
   ]
  },
  {
   "cell_type": "code",
   "execution_count": null,
   "id": "c31f7655",
   "metadata": {},
   "outputs": [],
   "source": [
    "exp_rtn = np.sum(log_returns.mean()*weight)*252"
   ]
  },
  {
   "cell_type": "code",
   "execution_count": null,
   "id": "00353c4f",
   "metadata": {},
   "outputs": [],
   "source": [
    "exp_vol = np.sqrt(np.dot(weight.T, np.dot(log_returns.cov()*252, weight)))"
   ]
  },
  {
   "cell_type": "code",
   "execution_count": null,
   "id": "b9397129",
   "metadata": {},
   "outputs": [],
   "source": [
    "sharpe_ratio = exp_rtn / exp_vol"
   ]
  },
  {
   "cell_type": "code",
   "execution_count": null,
   "id": "4f428939",
   "metadata": {},
   "outputs": [],
   "source": [
    "sharpe_ratio"
   ]
  },
  {
   "cell_type": "code",
   "execution_count": null,
   "id": "88363d94",
   "metadata": {},
   "outputs": [],
   "source": [
    "# Monte Carlo Simulation\n",
    "n = 5000\n",
    "\n",
    "weights = np.zeros((n, 4))\n",
    "exp_rtns = np.zeros(n)\n",
    "exp_vols = np.zeros(n)\n",
    "sharpe_ratios = np.zeros(n)\n",
    "\n",
    "for i in range(n):\n",
    "    weight = np.random.random(4)\n",
    "    weight /= weight.sum()\n",
    "    weights[i] = weight\n",
    "    \n",
    "    exp_rtns[i] = np.sum(log_returns.mean()*weight)*252\n",
    "    exp_vols[i] = np.sqrt(np.dot(weight.T, np.dot(log_returns.cov()*252, weight)))\n",
    "    sharpe_ratios[i] = exp_rtns[i] / exp_vols[i]"
   ]
  },
  {
   "cell_type": "code",
   "execution_count": null,
   "id": "3932187b",
   "metadata": {},
   "outputs": [],
   "source": [
    "sharpe_ratios.max()"
   ]
  },
  {
   "cell_type": "code",
   "execution_count": null,
   "id": "bc7222fb",
   "metadata": {},
   "outputs": [],
   "source": [
    "sharpe_ratios.argmax()"
   ]
  },
  {
   "cell_type": "code",
   "execution_count": null,
   "id": "fb48dd84",
   "metadata": {},
   "outputs": [],
   "source": [
    "weights[3153]"
   ]
  },
  {
   "cell_type": "code",
   "execution_count": null,
   "id": "6d473161",
   "metadata": {},
   "outputs": [],
   "source": [
    "import matplotlib.pyplot as plt\n",
    "%matplotlib notebook"
   ]
  },
  {
   "cell_type": "code",
   "execution_count": null,
   "id": "23c3d5fd",
   "metadata": {},
   "outputs": [],
   "source": [
    "fig, ax = plt.subplots()\n",
    "ax.scatter(exp_vols, exp_rtns, c=sharpe_ratios)\n",
    "ax.scatter(exp_vols[sharpe_ratios.argmax()], exp_rtns[sharpe_ratios.argmax()], c='r')\n",
    "ax.set_xlabel('Expected Volatility')\n",
    "ax.set_ylabel('Expected Return')"
   ]
  },
  {
   "cell_type": "code",
   "execution_count": null,
   "id": "40c95e6f",
   "metadata": {},
   "outputs": [],
   "source": []
  }
 ],
 "metadata": {
  "kernelspec": {
   "display_name": "Python 3 (ipykernel)",
   "language": "python",
   "name": "python3"
  },
  "language_info": {
   "codemirror_mode": {
    "name": "ipython",
    "version": 3
   },
   "file_extension": ".py",
   "mimetype": "text/x-python",
   "name": "python",
   "nbconvert_exporter": "python",
   "pygments_lexer": "ipython3",
   "version": "3.8.5"
  }
 },
 "nbformat": 4,
 "nbformat_minor": 5
}
