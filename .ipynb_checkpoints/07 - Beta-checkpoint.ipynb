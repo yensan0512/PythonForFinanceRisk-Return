{
 "cells": [
  {
   "cell_type": "markdown",
   "id": "096cda17",
   "metadata": {},
   "source": [
    "# Beta\n",
    "- Beta is a measure of a stock's volatility in relation to the overall market.\n",
    "- S&P 500 Index has a beta of 1.0\n",
    "- High-beta stocks are supposed to be riskier but provide higher return potential.\n",
    "- Low-beta stocks pose less risk but also lower returns."
   ]
  },
  {
   "cell_type": "markdown",
   "id": "32a9abbc",
   "metadata": {},
   "source": [
    "### Formula\n",
    "- $Beta = \\frac{Covariance}{Variance}$"
   ]
  },
  {
   "cell_type": "markdown",
   "id": "243e7ade",
   "metadata": {},
   "source": [
    "### Interpretation\n",
    "- Beta above 1: stock is more volatile than the market, but expects higher return\n",
    "- Beta below 1: stock with lower volatility, and expects less return"
   ]
  },
  {
   "cell_type": "markdown",
   "id": "40ee81e3",
   "metadata": {},
   "source": [
    "### Resources\n",
    "- Beta https://www.investopedia.com/investing/beta-know-risk/"
   ]
  },
  {
   "cell_type": "code",
   "execution_count": null,
   "id": "1f819b95",
   "metadata": {},
   "outputs": [],
   "source": [
    "import numpy as np\n",
    "import pandas_datareader as pdr\n",
    "import datetime as dt\n",
    "import pandas as pd\n",
    "from sklearn.linear_model import LinearRegression"
   ]
  },
  {
   "cell_type": "code",
   "execution_count": null,
   "id": "3fd92472",
   "metadata": {
    "scrolled": true
   },
   "outputs": [],
   "source": [
    "tickers = ['AAPL', 'MSFT', 'TWTR', 'IBM', '^GSPC']\n",
    "start = dt.datetime(2015, 12, 1)\n",
    "end = dt.datetime(2021, 1, 1)\n",
    "\n",
    "data = pdr.get_data_yahoo(tickers, start, end, interval=\"m\")"
   ]
  },
  {
   "cell_type": "code",
   "execution_count": null,
   "id": "7005dd40",
   "metadata": {},
   "outputs": [],
   "source": [
    "data = data['Adj Close']"
   ]
  },
  {
   "cell_type": "code",
   "execution_count": null,
   "id": "a1b65871",
   "metadata": {},
   "outputs": [],
   "source": [
    "log_returns = np.log(data/data.shift())"
   ]
  },
  {
   "cell_type": "code",
   "execution_count": null,
   "id": "2b2f34b8",
   "metadata": {},
   "outputs": [],
   "source": [
    "log_returns"
   ]
  },
  {
   "cell_type": "code",
   "execution_count": null,
   "id": "899f9800",
   "metadata": {},
   "outputs": [],
   "source": [
    "cov = log_returns.cov()"
   ]
  },
  {
   "cell_type": "code",
   "execution_count": null,
   "id": "d5532536",
   "metadata": {},
   "outputs": [],
   "source": [
    "var = log_returns['^GSPC'].var()"
   ]
  },
  {
   "cell_type": "code",
   "execution_count": null,
   "id": "aa08218b",
   "metadata": {},
   "outputs": [],
   "source": [
    "var"
   ]
  },
  {
   "cell_type": "code",
   "execution_count": null,
   "id": "969cb295",
   "metadata": {},
   "outputs": [],
   "source": [
    "cov.loc['AAPL', '^GSPC']/var"
   ]
  },
  {
   "cell_type": "code",
   "execution_count": null,
   "id": "07df4c10",
   "metadata": {},
   "outputs": [],
   "source": [
    "cov.loc['^GSPC']/var"
   ]
  },
  {
   "cell_type": "code",
   "execution_count": null,
   "id": "3457387c",
   "metadata": {},
   "outputs": [],
   "source": [
    "X = log_returns['^GSPC'].iloc[1:].to_numpy().reshape(-1, 1)\n",
    "Y = log_returns['AAPL'].iloc[1:].to_numpy().reshape(-1, 1)\n",
    "\n",
    "lin_regr = LinearRegression()\n",
    "lin_regr.fit(X, Y)\n",
    "\n",
    "lin_regr.coef_[0, 0]"
   ]
  },
  {
   "cell_type": "code",
   "execution_count": null,
   "id": "30454680",
   "metadata": {},
   "outputs": [],
   "source": [
    "import matplotlib.pyplot as plt\n",
    "%matplotlib notebook"
   ]
  },
  {
   "cell_type": "code",
   "execution_count": null,
   "id": "c69ee687",
   "metadata": {},
   "outputs": [],
   "source": [
    "fig, ax = plt.subplots()\n",
    "ax.scatter(X, Y)\n"
   ]
  },
  {
   "cell_type": "code",
   "execution_count": null,
   "id": "750602f6",
   "metadata": {},
   "outputs": [],
   "source": []
  }
 ],
 "metadata": {
  "kernelspec": {
   "display_name": "Python 3 (ipykernel)",
   "language": "python",
   "name": "python3"
  },
  "language_info": {
   "codemirror_mode": {
    "name": "ipython",
    "version": 3
   },
   "file_extension": ".py",
   "mimetype": "text/x-python",
   "name": "python",
   "nbconvert_exporter": "python",
   "pygments_lexer": "ipython3",
   "version": "3.9.13"
  }
 },
 "nbformat": 4,
 "nbformat_minor": 5
}
