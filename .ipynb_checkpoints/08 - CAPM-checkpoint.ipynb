{
 "cells": [
  {
   "cell_type": "markdown",
   "id": "9afce351",
   "metadata": {},
   "source": [
    "# Capital Asset Pricing Model (CAPM)\n",
    "- Relationship between systematic risk and expected return\n",
    "- There are several assumptions behind the CAPM formula that have been shown not to hold in reality.\n",
    "- CAPM formula is still widely used"
   ]
  },
  {
   "cell_type": "markdown",
   "id": "cbe4d223",
   "metadata": {},
   "source": [
    "### Formula\n",
    "\n",
    "$ER_i = R_f + \\beta_i(ER_m - R_f)$\n",
    "* $ER_i$: Expected return from investment\n",
    "* $R_f$: Risk free return\n",
    "* $\\beta_i$: The beta of the investment\n",
    "* $(ER_m - R_f)$: Market risk premium"
   ]
  },
  {
   "cell_type": "markdown",
   "id": "e4da191c",
   "metadata": {},
   "source": [
    "**Risk free return** 10 Year Treasury Note\n",
    "- https://www.treasury.gov/resource-center/data-chart-center/interest-rates/pages/textview.aspx?data=yield"
   ]
  },
  {
   "cell_type": "markdown",
   "id": "17762d9f",
   "metadata": {},
   "source": [
    "**Market risk premium**\n",
    "- https://www.investopedia.com/terms/m/marketriskpremium.asp\n",
    "- Between 1926 and 2014, the S&P 500 exhibited a 10.5% compounding annual rate of return"
   ]
  },
  {
   "cell_type": "markdown",
   "id": "14fe5e06",
   "metadata": {},
   "source": [
    "### Resources\n",
    "- CAPM https://www.investopedia.com/terms/c/capm.asp"
   ]
  },
  {
   "cell_type": "code",
   "execution_count": null,
   "id": "2a18af54",
   "metadata": {},
   "outputs": [],
   "source": [
    "import numpy as np\n",
    "import pandas_datareader as pdr\n",
    "import datetime as dt\n",
    "import pandas as pd"
   ]
  },
  {
   "cell_type": "code",
   "execution_count": null,
   "id": "0d637ac2",
   "metadata": {},
   "outputs": [],
   "source": [
    "tickers = ['AAPL', 'MSFT', 'TWTR', 'IBM', '^GSPC']\n",
    "start = dt.datetime(2015, 12, 1)\n",
    "end = dt.datetime(2021, 1, 1)\n",
    "\n",
    "data = pdr.get_data_yahoo(tickers, start, end, interval=\"m\")"
   ]
  },
  {
   "cell_type": "code",
   "execution_count": null,
   "id": "2f45fac3",
   "metadata": {},
   "outputs": [],
   "source": [
    "data = data['Adj Close']"
   ]
  },
  {
   "cell_type": "code",
   "execution_count": null,
   "id": "53ae733a",
   "metadata": {},
   "outputs": [],
   "source": [
    "log_returns = np.log(data/data.shift())"
   ]
  },
  {
   "cell_type": "code",
   "execution_count": null,
   "id": "401e0e9a",
   "metadata": {},
   "outputs": [],
   "source": [
    "cov = log_returns.cov()\n",
    "var = log_returns['^GSPC'].var()"
   ]
  },
  {
   "cell_type": "code",
   "execution_count": null,
   "id": "7b31446a",
   "metadata": {},
   "outputs": [],
   "source": [
    "beta = cov.loc['AAPL', '^GSPC']/var"
   ]
  },
  {
   "cell_type": "code",
   "execution_count": null,
   "id": "f4000334",
   "metadata": {},
   "outputs": [],
   "source": [
    "risk_free_return = 0.0138\n",
    "market_return = .105\n",
    "expected_return = risk_free_return + beta*(market_return - risk_free_return)"
   ]
  },
  {
   "cell_type": "code",
   "execution_count": null,
   "id": "8a5fb2bd",
   "metadata": {},
   "outputs": [],
   "source": [
    "expected_return"
   ]
  },
  {
   "cell_type": "code",
   "execution_count": null,
   "id": "705d9499",
   "metadata": {},
   "outputs": [],
   "source": [
    "beta*market_return"
   ]
  },
  {
   "cell_type": "code",
   "execution_count": null,
   "id": "211f98d6",
   "metadata": {},
   "outputs": [],
   "source": [
    "beta = cov.loc['^GSPC']/var"
   ]
  },
  {
   "cell_type": "code",
   "execution_count": null,
   "id": "b582f839",
   "metadata": {},
   "outputs": [],
   "source": [
    "beta"
   ]
  },
  {
   "cell_type": "code",
   "execution_count": null,
   "id": "d98fb8b0",
   "metadata": {},
   "outputs": [],
   "source": [
    "market_return = risk_free_return + beta*(market_return - risk_free_return)"
   ]
  },
  {
   "cell_type": "code",
   "execution_count": null,
   "id": "6007aa92",
   "metadata": {},
   "outputs": [],
   "source": [
    "market_return"
   ]
  },
  {
   "cell_type": "code",
   "execution_count": null,
   "id": "881d9ecb",
   "metadata": {},
   "outputs": [],
   "source": []
  }
 ],
 "metadata": {
  "kernelspec": {
   "display_name": "Python 3 (ipykernel)",
   "language": "python",
   "name": "python3"
  },
  "language_info": {
   "codemirror_mode": {
    "name": "ipython",
    "version": 3
   },
   "file_extension": ".py",
   "mimetype": "text/x-python",
   "name": "python",
   "nbconvert_exporter": "python",
   "pygments_lexer": "ipython3",
   "version": "3.8.5"
  }
 },
 "nbformat": 4,
 "nbformat_minor": 5
}
