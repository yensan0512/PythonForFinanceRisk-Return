{
 "cells": [
  {
   "cell_type": "code",
   "execution_count": 1,
   "id": "dc0b6ba9",
   "metadata": {},
   "outputs": [],
   "source": [
    "import numpy as np \n",
    "import pandas as pd\n",
    "from sklearn import preprocessing\n",
    "from sklearn.model_selection import train_test_split\n",
    "from sklearn.linear_model import LinearRegression"
   ]
  },
  {
   "cell_type": "code",
   "execution_count": 2,
   "id": "48206d71",
   "metadata": {},
   "outputs": [],
   "source": [
    "def prepare_data(df,forecast_col,forecast_out,test_size):\n",
    "    label  = df[forecast_col].shift(-forecast_out) #creating new column called label with the last 5 rows are nan\n",
    "    X = np.array(df[[forecast_col]]) #creating the feature array\n",
    "    X = preprocessing.scale(X)  #processing the feature array\n",
    "    X_lately = X[-forecast_out:] #creating the column i want to use later in the predicting method\n",
    "    X = X[:-forecast_out]  # X that will contain the training and testing\n",
    "    label.dropna(inplace=True)  #dropping na values\n",
    "    y = np.array(label)  # assigning Y\n",
    "    X_train, X_test, Y_train, Y_test = train_test_split(X,y,test_size=test_size,random_state=0) #cross validation\n",
    "    \n",
    "    \n",
    "    response = [X_train,X_test, Y_train, Y_test, X_lately]\n",
    "    return response"
   ]
  },
  {
   "cell_type": "code",
   "execution_count": 3,
   "id": "6d33d502",
   "metadata": {},
   "outputs": [],
   "source": [
    "import datetime as dt\n",
    "import pandas_datareader.data as pdr\n",
    "import yfinance as yfin\n",
    "yfin.pdr_override()"
   ]
  },
  {
   "cell_type": "code",
   "execution_count": 4,
   "id": "233bd22a",
   "metadata": {},
   "outputs": [
    {
     "name": "stdout",
     "output_type": "stream",
     "text": [
      "[*********************100%***********************]  1 of 1 completed\n"
     ]
    }
   ],
   "source": [
    "start = dt.datetime(2020, 1, 1)\n",
    "data = pdr.get_data_yahoo(\"NFLX\", start)"
   ]
  },
  {
   "cell_type": "code",
   "execution_count": 7,
   "id": "77e5c66a",
   "metadata": {},
   "outputs": [],
   "source": [
    "forecast_col = 'Close'\n",
    "forecast_out = 5\n",
    "test_size = 0.2"
   ]
  },
  {
   "cell_type": "code",
   "execution_count": 8,
   "id": "a8ab70db",
   "metadata": {},
   "outputs": [
    {
     "data": {
      "text/plain": [
       "LinearRegression()"
      ]
     },
     "execution_count": 8,
     "metadata": {},
     "output_type": "execute_result"
    }
   ],
   "source": [
    "X_train, X_test, Y_train, Y_test , X_lately =prepare_data(data,forecast_col,forecast_out,test_size); #calling the method were the cross validation and data preperation is in\n",
    "learner = LinearRegression() #initializing linear regression model\n",
    "\n",
    "learner.fit(X_train,Y_train) #training the linear regression model"
   ]
  },
  {
   "cell_type": "code",
   "execution_count": 9,
   "id": "d0430108",
   "metadata": {},
   "outputs": [
    {
     "name": "stdout",
     "output_type": "stream",
     "text": [
      "{'test_score': 0.9725083330223226, 'forecast_set': array([329.70675912, 328.99258572, 324.94238869, 333.2677738 ,\n",
      "       339.52891983])}\n"
     ]
    }
   ],
   "source": [
    "score=learner.score(X_test,Y_test)#testing the linear regression model\n",
    "forecast= learner.predict(X_lately) #set that will contain the forecasted data\n",
    "response={}#creting json object\n",
    "response['test_score']=score\n",
    "response['forecast_set']=forecast\n",
    "\n",
    "print(response)"
   ]
  },
  {
   "cell_type": "code",
   "execution_count": null,
   "id": "23a8b8e1",
   "metadata": {},
   "outputs": [],
   "source": []
  }
 ],
 "metadata": {
  "kernelspec": {
   "display_name": "Python 3 (ipykernel)",
   "language": "python",
   "name": "python3"
  },
  "language_info": {
   "codemirror_mode": {
    "name": "ipython",
    "version": 3
   },
   "file_extension": ".py",
   "mimetype": "text/x-python",
   "name": "python",
   "nbconvert_exporter": "python",
   "pygments_lexer": "ipython3",
   "version": "3.9.13"
  }
 },
 "nbformat": 4,
 "nbformat_minor": 5
}
