{
 "cells": [
  {
   "cell_type": "markdown",
   "id": "5baec095",
   "metadata": {},
   "source": [
    "# Using Pandas and NumPy\n",
    "## Portfolio and Risk\n",
    "- Pandas Datareader\n",
    "- Pandas\n",
    "- Numpy\n",
    "- Portfolio and return"
   ]
  },
  {
   "cell_type": "markdown",
   "id": "166c53e4",
   "metadata": {},
   "source": [
    "### Resources\n",
    "- Pandas Datareader\n",
    "https://pandas-datareader.readthedocs.io/ (https://youtu.be/sgndYho8RyI)\n",
    "- Pandas https://pandas.pydata.org (https://youtu.be/m8ahf_c9hEc)\n",
    "- NumPy http://numpy.org (Focus here)"
   ]
  },
  {
   "cell_type": "markdown",
   "id": "2f7a10cb",
   "metadata": {},
   "source": [
    "### Pandas Datareader & Pandas DataFrame"
   ]
  },
  {
   "cell_type": "code",
   "execution_count": 1,
   "id": "96f127f7",
   "metadata": {},
   "outputs": [],
   "source": [
    "import numpy as np\n",
    "import pandas_datareader as pdr\n",
    "import datetime as dt\n",
    "import pandas as pd\n",
    "from datetime import datetime"
   ]
  },
  {
   "cell_type": "code",
   "execution_count": 2,
   "id": "909f12f1",
   "metadata": {},
   "outputs": [
    {
     "name": "stdout",
     "output_type": "stream",
     "text": [
      "Requirement already satisfied: pandas_datareader in c:\\users\\yensanwoo\\anaconda3\\lib\\site-packages (0.10.0)\n",
      "Requirement already satisfied: pandas>=0.23 in c:\\users\\yensanwoo\\anaconda3\\lib\\site-packages (from pandas_datareader) (1.5.3)\n",
      "Requirement already satisfied: requests>=2.19.0 in c:\\users\\yensanwoo\\anaconda3\\lib\\site-packages (from pandas_datareader) (2.28.1)\n",
      "Requirement already satisfied: lxml in c:\\users\\yensanwoo\\anaconda3\\lib\\site-packages (from pandas_datareader) (4.9.1)\n",
      "Requirement already satisfied: numpy>=1.20.3 in c:\\users\\yensanwoo\\anaconda3\\lib\\site-packages (from pandas>=0.23->pandas_datareader) (1.21.5)\n",
      "Requirement already satisfied: pytz>=2020.1 in c:\\users\\yensanwoo\\anaconda3\\lib\\site-packages (from pandas>=0.23->pandas_datareader) (2022.7.1)\n",
      "Requirement already satisfied: python-dateutil>=2.8.1 in c:\\users\\yensanwoo\\anaconda3\\lib\\site-packages (from pandas>=0.23->pandas_datareader) (2.8.2)\n",
      "Requirement already satisfied: idna<4,>=2.5 in c:\\users\\yensanwoo\\anaconda3\\lib\\site-packages (from requests>=2.19.0->pandas_datareader) (3.3)\n",
      "Requirement already satisfied: certifi>=2017.4.17 in c:\\users\\yensanwoo\\anaconda3\\lib\\site-packages (from requests>=2.19.0->pandas_datareader) (2022.9.14)\n",
      "Requirement already satisfied: charset-normalizer<3,>=2 in c:\\users\\yensanwoo\\anaconda3\\lib\\site-packages (from requests>=2.19.0->pandas_datareader) (2.0.4)\n",
      "Requirement already satisfied: urllib3<1.27,>=1.21.1 in c:\\users\\yensanwoo\\anaconda3\\lib\\site-packages (from requests>=2.19.0->pandas_datareader) (1.26.11)\n",
      "Requirement already satisfied: six>=1.5 in c:\\users\\yensanwoo\\anaconda3\\lib\\site-packages (from python-dateutil>=2.8.1->pandas>=0.23->pandas_datareader) (1.16.0)\n"
     ]
    }
   ],
   "source": [
    "!pip install pandas_datareader"
   ]
  },
  {
   "cell_type": "code",
   "execution_count": 3,
   "id": "9e5586a4",
   "metadata": {},
   "outputs": [
    {
     "name": "stdout",
     "output_type": "stream",
     "text": [
      "Requirement already satisfied: yfinance in c:\\users\\yensanwoo\\anaconda3\\lib\\site-packages (0.2.13)\n",
      "Requirement already satisfied: appdirs>=1.4.4 in c:\\users\\yensanwoo\\anaconda3\\lib\\site-packages (from yfinance) (1.4.4)\n",
      "Requirement already satisfied: numpy>=1.16.5 in c:\\users\\yensanwoo\\anaconda3\\lib\\site-packages (from yfinance) (1.21.5)\n",
      "Requirement already satisfied: requests>=2.26 in c:\\users\\yensanwoo\\anaconda3\\lib\\site-packages (from yfinance) (2.28.1)\n",
      "Requirement already satisfied: beautifulsoup4>=4.11.1 in c:\\users\\yensanwoo\\anaconda3\\lib\\site-packages (from yfinance) (4.11.1)\n",
      "Requirement already satisfied: lxml>=4.9.1 in c:\\users\\yensanwoo\\anaconda3\\lib\\site-packages (from yfinance) (4.9.1)\n",
      "Requirement already satisfied: cryptography>=3.3.2 in c:\\users\\yensanwoo\\anaconda3\\lib\\site-packages (from yfinance) (37.0.1)\n",
      "Requirement already satisfied: html5lib>=1.1 in c:\\users\\yensanwoo\\anaconda3\\lib\\site-packages (from yfinance) (1.1)\n",
      "Requirement already satisfied: pytz>=2022.5 in c:\\users\\yensanwoo\\anaconda3\\lib\\site-packages (from yfinance) (2022.7.1)\n",
      "Requirement already satisfied: multitasking>=0.0.7 in c:\\users\\yensanwoo\\anaconda3\\lib\\site-packages (from yfinance) (0.0.11)\n",
      "Requirement already satisfied: pandas>=1.3.0 in c:\\users\\yensanwoo\\anaconda3\\lib\\site-packages (from yfinance) (1.5.3)\n",
      "Requirement already satisfied: frozendict>=2.3.4 in c:\\users\\yensanwoo\\anaconda3\\lib\\site-packages (from yfinance) (2.3.6)\n",
      "Requirement already satisfied: soupsieve>1.2 in c:\\users\\yensanwoo\\anaconda3\\lib\\site-packages (from beautifulsoup4>=4.11.1->yfinance) (2.3.1)\n",
      "Requirement already satisfied: cffi>=1.12 in c:\\users\\yensanwoo\\anaconda3\\lib\\site-packages (from cryptography>=3.3.2->yfinance) (1.15.1)\n",
      "Requirement already satisfied: webencodings in c:\\users\\yensanwoo\\anaconda3\\lib\\site-packages (from html5lib>=1.1->yfinance) (0.5.1)\n",
      "Requirement already satisfied: six>=1.9 in c:\\users\\yensanwoo\\anaconda3\\lib\\site-packages (from html5lib>=1.1->yfinance) (1.16.0)\n",
      "Requirement already satisfied: python-dateutil>=2.8.1 in c:\\users\\yensanwoo\\anaconda3\\lib\\site-packages (from pandas>=1.3.0->yfinance) (2.8.2)\n",
      "Requirement already satisfied: charset-normalizer<3,>=2 in c:\\users\\yensanwoo\\anaconda3\\lib\\site-packages (from requests>=2.26->yfinance) (2.0.4)\n",
      "Requirement already satisfied: idna<4,>=2.5 in c:\\users\\yensanwoo\\anaconda3\\lib\\site-packages (from requests>=2.26->yfinance) (3.3)\n",
      "Requirement already satisfied: urllib3<1.27,>=1.21.1 in c:\\users\\yensanwoo\\anaconda3\\lib\\site-packages (from requests>=2.26->yfinance) (1.26.11)\n",
      "Requirement already satisfied: certifi>=2017.4.17 in c:\\users\\yensanwoo\\anaconda3\\lib\\site-packages (from requests>=2.26->yfinance) (2022.9.14)\n",
      "Requirement already satisfied: pycparser in c:\\users\\yensanwoo\\anaconda3\\lib\\site-packages (from cffi>=1.12->cryptography>=3.3.2->yfinance) (2.21)\n",
      "Note: you may need to restart the kernel to use updated packages.\n"
     ]
    }
   ],
   "source": [
    "pip install yfinance"
   ]
  },
  {
   "cell_type": "code",
   "execution_count": 4,
   "id": "eb1ca029",
   "metadata": {},
   "outputs": [],
   "source": [
    "import pandas_datareader.data as pdr\n",
    "import yfinance as yfin\n",
    "yfin.pdr_override()"
   ]
  },
  {
   "cell_type": "code",
   "execution_count": 5,
   "id": "0502f985",
   "metadata": {},
   "outputs": [
    {
     "name": "stdout",
     "output_type": "stream",
     "text": [
      "[*********************100%***********************]  1 of 1 completed\n"
     ]
    }
   ],
   "source": [
    "start = dt.datetime(2020, 1, 1)\n",
    "data = pdr.get_data_yahoo(\"AAPL\", start)"
   ]
  },
  {
   "cell_type": "code",
   "execution_count": 6,
   "id": "cc878e34",
   "metadata": {},
   "outputs": [
    {
     "data": {
      "text/html": [
       "<div>\n",
       "<style scoped>\n",
       "    .dataframe tbody tr th:only-of-type {\n",
       "        vertical-align: middle;\n",
       "    }\n",
       "\n",
       "    .dataframe tbody tr th {\n",
       "        vertical-align: top;\n",
       "    }\n",
       "\n",
       "    .dataframe thead th {\n",
       "        text-align: right;\n",
       "    }\n",
       "</style>\n",
       "<table border=\"1\" class=\"dataframe\">\n",
       "  <thead>\n",
       "    <tr style=\"text-align: right;\">\n",
       "      <th></th>\n",
       "      <th>Open</th>\n",
       "      <th>High</th>\n",
       "      <th>Low</th>\n",
       "      <th>Close</th>\n",
       "      <th>Adj Close</th>\n",
       "      <th>Volume</th>\n",
       "    </tr>\n",
       "    <tr>\n",
       "      <th>Date</th>\n",
       "      <th></th>\n",
       "      <th></th>\n",
       "      <th></th>\n",
       "      <th></th>\n",
       "      <th></th>\n",
       "      <th></th>\n",
       "    </tr>\n",
       "  </thead>\n",
       "  <tbody>\n",
       "    <tr>\n",
       "      <th>2020-01-02</th>\n",
       "      <td>74.059998</td>\n",
       "      <td>75.150002</td>\n",
       "      <td>73.797501</td>\n",
       "      <td>75.087502</td>\n",
       "      <td>73.449394</td>\n",
       "      <td>135480400</td>\n",
       "    </tr>\n",
       "    <tr>\n",
       "      <th>2020-01-03</th>\n",
       "      <td>74.287498</td>\n",
       "      <td>75.144997</td>\n",
       "      <td>74.125000</td>\n",
       "      <td>74.357498</td>\n",
       "      <td>72.735336</td>\n",
       "      <td>146322800</td>\n",
       "    </tr>\n",
       "    <tr>\n",
       "      <th>2020-01-06</th>\n",
       "      <td>73.447502</td>\n",
       "      <td>74.989998</td>\n",
       "      <td>73.187500</td>\n",
       "      <td>74.949997</td>\n",
       "      <td>73.314888</td>\n",
       "      <td>118387200</td>\n",
       "    </tr>\n",
       "    <tr>\n",
       "      <th>2020-01-07</th>\n",
       "      <td>74.959999</td>\n",
       "      <td>75.224998</td>\n",
       "      <td>74.370003</td>\n",
       "      <td>74.597504</td>\n",
       "      <td>72.970078</td>\n",
       "      <td>108872000</td>\n",
       "    </tr>\n",
       "    <tr>\n",
       "      <th>2020-01-08</th>\n",
       "      <td>74.290001</td>\n",
       "      <td>76.110001</td>\n",
       "      <td>74.290001</td>\n",
       "      <td>75.797501</td>\n",
       "      <td>74.143898</td>\n",
       "      <td>132079200</td>\n",
       "    </tr>\n",
       "  </tbody>\n",
       "</table>\n",
       "</div>"
      ],
      "text/plain": [
       "                 Open       High        Low      Close  Adj Close     Volume\n",
       "Date                                                                        \n",
       "2020-01-02  74.059998  75.150002  73.797501  75.087502  73.449394  135480400\n",
       "2020-01-03  74.287498  75.144997  74.125000  74.357498  72.735336  146322800\n",
       "2020-01-06  73.447502  74.989998  73.187500  74.949997  73.314888  118387200\n",
       "2020-01-07  74.959999  75.224998  74.370003  74.597504  72.970078  108872000\n",
       "2020-01-08  74.290001  76.110001  74.290001  75.797501  74.143898  132079200"
      ]
     },
     "execution_count": 6,
     "metadata": {},
     "output_type": "execute_result"
    }
   ],
   "source": [
    "data.head()"
   ]
  },
  {
   "cell_type": "code",
   "execution_count": 7,
   "id": "45b63de0",
   "metadata": {},
   "outputs": [
    {
     "data": {
      "text/plain": [
       "DatetimeIndex(['2020-01-02', '2020-01-03', '2020-01-06', '2020-01-07',\n",
       "               '2020-01-08', '2020-01-09', '2020-01-10', '2020-01-13',\n",
       "               '2020-01-14', '2020-01-15',\n",
       "               ...\n",
       "               '2023-03-17', '2023-03-20', '2023-03-21', '2023-03-22',\n",
       "               '2023-03-23', '2023-03-24', '2023-03-27', '2023-03-28',\n",
       "               '2023-03-29', '2023-03-30'],\n",
       "              dtype='datetime64[ns]', name='Date', length=817, freq=None)"
      ]
     },
     "execution_count": 7,
     "metadata": {},
     "output_type": "execute_result"
    }
   ],
   "source": [
    "data.index"
   ]
  },
  {
   "cell_type": "code",
   "execution_count": 8,
   "id": "e2a673aa",
   "metadata": {},
   "outputs": [
    {
     "data": {
      "text/plain": [
       "Open         float64\n",
       "High         float64\n",
       "Low          float64\n",
       "Close        float64\n",
       "Adj Close    float64\n",
       "Volume         int64\n",
       "dtype: object"
      ]
     },
     "execution_count": 8,
     "metadata": {},
     "output_type": "execute_result"
    }
   ],
   "source": [
    "data.dtypes"
   ]
  },
  {
   "cell_type": "code",
   "execution_count": 9,
   "id": "8c850b33",
   "metadata": {},
   "outputs": [
    {
     "data": {
      "text/plain": [
       "pandas.core.frame.DataFrame"
      ]
     },
     "execution_count": 9,
     "metadata": {},
     "output_type": "execute_result"
    }
   ],
   "source": [
    "type(data)"
   ]
  },
  {
   "cell_type": "markdown",
   "id": "e82da019",
   "metadata": {},
   "source": [
    "### NumPy"
   ]
  },
  {
   "cell_type": "code",
   "execution_count": 10,
   "id": "649dff82",
   "metadata": {},
   "outputs": [
    {
     "data": {
      "text/plain": [
       "array([[7.40599976e+01, 7.51500015e+01, 7.37975006e+01, 7.50875015e+01,\n",
       "        7.34493942e+01, 1.35480400e+08],\n",
       "       [7.42874985e+01, 7.51449966e+01, 7.41250000e+01, 7.43574982e+01,\n",
       "        7.27353363e+01, 1.46322800e+08],\n",
       "       [7.34475021e+01, 7.49899979e+01, 7.31875000e+01, 7.49499969e+01,\n",
       "        7.33148880e+01, 1.18387200e+08],\n",
       "       ...,\n",
       "       [1.57970001e+02, 1.58490005e+02, 1.55979996e+02, 1.57649994e+02,\n",
       "        1.57649994e+02, 4.59922000e+07],\n",
       "       [1.59369995e+02, 1.61050003e+02, 1.59350006e+02, 1.60770004e+02,\n",
       "        1.60770004e+02, 5.13057000e+07],\n",
       "       [1.61529999e+02, 1.62470001e+02, 1.61270004e+02, 1.62360001e+02,\n",
       "        1.62360001e+02, 4.94567000e+07]])"
      ]
     },
     "execution_count": 10,
     "metadata": {},
     "output_type": "execute_result"
    }
   ],
   "source": [
    "data.to_numpy()"
   ]
  },
  {
   "cell_type": "code",
   "execution_count": 11,
   "id": "de26610d",
   "metadata": {},
   "outputs": [],
   "source": [
    "arr = data.to_numpy()"
   ]
  },
  {
   "cell_type": "code",
   "execution_count": 12,
   "id": "122cbf6f",
   "metadata": {},
   "outputs": [
    {
     "data": {
      "text/plain": [
       "(817, 6)"
      ]
     },
     "execution_count": 12,
     "metadata": {},
     "output_type": "execute_result"
    }
   ],
   "source": [
    "arr.shape"
   ]
  },
  {
   "cell_type": "code",
   "execution_count": 13,
   "id": "d9e79ca5",
   "metadata": {},
   "outputs": [
    {
     "data": {
      "text/plain": [
       "817"
      ]
     },
     "execution_count": 13,
     "metadata": {},
     "output_type": "execute_result"
    }
   ],
   "source": [
    "len(data)"
   ]
  },
  {
   "cell_type": "code",
   "execution_count": 14,
   "id": "397b7d69",
   "metadata": {},
   "outputs": [
    {
     "data": {
      "text/plain": [
       "array([7.40599976e+01, 7.51500015e+01, 7.37975006e+01, 7.50875015e+01,\n",
       "       7.34493942e+01, 1.35480400e+08])"
      ]
     },
     "execution_count": 14,
     "metadata": {},
     "output_type": "execute_result"
    }
   ],
   "source": [
    "arr[0]"
   ]
  },
  {
   "cell_type": "code",
   "execution_count": 15,
   "id": "eb803e02",
   "metadata": {},
   "outputs": [
    {
     "data": {
      "text/html": [
       "<div>\n",
       "<style scoped>\n",
       "    .dataframe tbody tr th:only-of-type {\n",
       "        vertical-align: middle;\n",
       "    }\n",
       "\n",
       "    .dataframe tbody tr th {\n",
       "        vertical-align: top;\n",
       "    }\n",
       "\n",
       "    .dataframe thead th {\n",
       "        text-align: right;\n",
       "    }\n",
       "</style>\n",
       "<table border=\"1\" class=\"dataframe\">\n",
       "  <thead>\n",
       "    <tr style=\"text-align: right;\">\n",
       "      <th></th>\n",
       "      <th>Open</th>\n",
       "      <th>High</th>\n",
       "      <th>Low</th>\n",
       "      <th>Close</th>\n",
       "      <th>Adj Close</th>\n",
       "      <th>Volume</th>\n",
       "    </tr>\n",
       "    <tr>\n",
       "      <th>Date</th>\n",
       "      <th></th>\n",
       "      <th></th>\n",
       "      <th></th>\n",
       "      <th></th>\n",
       "      <th></th>\n",
       "      <th></th>\n",
       "    </tr>\n",
       "  </thead>\n",
       "  <tbody>\n",
       "    <tr>\n",
       "      <th>2020-01-02</th>\n",
       "      <td>74.059998</td>\n",
       "      <td>75.150002</td>\n",
       "      <td>73.797501</td>\n",
       "      <td>75.087502</td>\n",
       "      <td>73.449394</td>\n",
       "      <td>135480400</td>\n",
       "    </tr>\n",
       "  </tbody>\n",
       "</table>\n",
       "</div>"
      ],
      "text/plain": [
       "                 Open       High        Low      Close  Adj Close     Volume\n",
       "Date                                                                        \n",
       "2020-01-02  74.059998  75.150002  73.797501  75.087502  73.449394  135480400"
      ]
     },
     "execution_count": 15,
     "metadata": {},
     "output_type": "execute_result"
    }
   ],
   "source": [
    "data.head(1)"
   ]
  },
  {
   "cell_type": "code",
   "execution_count": 16,
   "id": "c76a5a36",
   "metadata": {},
   "outputs": [
    {
     "data": {
      "text/plain": [
       "dtype('float64')"
      ]
     },
     "execution_count": 16,
     "metadata": {},
     "output_type": "execute_result"
    }
   ],
   "source": [
    "arr.dtype"
   ]
  },
  {
   "cell_type": "code",
   "execution_count": 17,
   "id": "2c78bfdf",
   "metadata": {},
   "outputs": [],
   "source": [
    "small = arr[:10, 0].copy()"
   ]
  },
  {
   "cell_type": "code",
   "execution_count": 18,
   "id": "22f6c4a7",
   "metadata": {},
   "outputs": [
    {
     "data": {
      "text/plain": [
       "array([74.05999756, 74.28749847, 73.44750214, 74.95999908, 74.29000092,\n",
       "       76.80999756, 77.65000153, 77.91000366, 79.17500305, 77.96250153])"
      ]
     },
     "execution_count": 18,
     "metadata": {},
     "output_type": "execute_result"
    }
   ],
   "source": [
    "small"
   ]
  },
  {
   "cell_type": "code",
   "execution_count": 19,
   "id": "0633a5f2",
   "metadata": {},
   "outputs": [
    {
     "data": {
      "text/html": [
       "<div>\n",
       "<style scoped>\n",
       "    .dataframe tbody tr th:only-of-type {\n",
       "        vertical-align: middle;\n",
       "    }\n",
       "\n",
       "    .dataframe tbody tr th {\n",
       "        vertical-align: top;\n",
       "    }\n",
       "\n",
       "    .dataframe thead th {\n",
       "        text-align: right;\n",
       "    }\n",
       "</style>\n",
       "<table border=\"1\" class=\"dataframe\">\n",
       "  <thead>\n",
       "    <tr style=\"text-align: right;\">\n",
       "      <th></th>\n",
       "      <th>Open</th>\n",
       "      <th>High</th>\n",
       "      <th>Low</th>\n",
       "      <th>Close</th>\n",
       "      <th>Adj Close</th>\n",
       "      <th>Volume</th>\n",
       "    </tr>\n",
       "    <tr>\n",
       "      <th>Date</th>\n",
       "      <th></th>\n",
       "      <th></th>\n",
       "      <th></th>\n",
       "      <th></th>\n",
       "      <th></th>\n",
       "      <th></th>\n",
       "    </tr>\n",
       "  </thead>\n",
       "  <tbody>\n",
       "    <tr>\n",
       "      <th>2020-01-02</th>\n",
       "      <td>74.059998</td>\n",
       "      <td>75.150002</td>\n",
       "      <td>73.797501</td>\n",
       "      <td>75.087502</td>\n",
       "      <td>73.449394</td>\n",
       "      <td>135480400</td>\n",
       "    </tr>\n",
       "    <tr>\n",
       "      <th>2020-01-03</th>\n",
       "      <td>74.287498</td>\n",
       "      <td>75.144997</td>\n",
       "      <td>74.125000</td>\n",
       "      <td>74.357498</td>\n",
       "      <td>72.735336</td>\n",
       "      <td>146322800</td>\n",
       "    </tr>\n",
       "    <tr>\n",
       "      <th>2020-01-06</th>\n",
       "      <td>73.447502</td>\n",
       "      <td>74.989998</td>\n",
       "      <td>73.187500</td>\n",
       "      <td>74.949997</td>\n",
       "      <td>73.314888</td>\n",
       "      <td>118387200</td>\n",
       "    </tr>\n",
       "    <tr>\n",
       "      <th>2020-01-07</th>\n",
       "      <td>74.959999</td>\n",
       "      <td>75.224998</td>\n",
       "      <td>74.370003</td>\n",
       "      <td>74.597504</td>\n",
       "      <td>72.970078</td>\n",
       "      <td>108872000</td>\n",
       "    </tr>\n",
       "    <tr>\n",
       "      <th>2020-01-08</th>\n",
       "      <td>74.290001</td>\n",
       "      <td>76.110001</td>\n",
       "      <td>74.290001</td>\n",
       "      <td>75.797501</td>\n",
       "      <td>74.143898</td>\n",
       "      <td>132079200</td>\n",
       "    </tr>\n",
       "  </tbody>\n",
       "</table>\n",
       "</div>"
      ],
      "text/plain": [
       "                 Open       High        Low      Close  Adj Close     Volume\n",
       "Date                                                                        \n",
       "2020-01-02  74.059998  75.150002  73.797501  75.087502  73.449394  135480400\n",
       "2020-01-03  74.287498  75.144997  74.125000  74.357498  72.735336  146322800\n",
       "2020-01-06  73.447502  74.989998  73.187500  74.949997  73.314888  118387200\n",
       "2020-01-07  74.959999  75.224998  74.370003  74.597504  72.970078  108872000\n",
       "2020-01-08  74.290001  76.110001  74.290001  75.797501  74.143898  132079200"
      ]
     },
     "execution_count": 19,
     "metadata": {},
     "output_type": "execute_result"
    }
   ],
   "source": [
    "data.head()"
   ]
  },
  {
   "cell_type": "code",
   "execution_count": 20,
   "id": "4ea9850b",
   "metadata": {},
   "outputs": [
    {
     "data": {
      "text/plain": [
       "79.17500305175781"
      ]
     },
     "execution_count": 20,
     "metadata": {},
     "output_type": "execute_result"
    }
   ],
   "source": [
    "np.max(small)"
   ]
  },
  {
   "cell_type": "code",
   "execution_count": 21,
   "id": "ce74dbda",
   "metadata": {},
   "outputs": [
    {
     "data": {
      "text/plain": [
       "79.17500305175781"
      ]
     },
     "execution_count": 21,
     "metadata": {},
     "output_type": "execute_result"
    }
   ],
   "source": [
    "small.max()"
   ]
  },
  {
   "cell_type": "code",
   "execution_count": 22,
   "id": "240aa7ec",
   "metadata": {},
   "outputs": [
    {
     "data": {
      "text/plain": [
       "8"
      ]
     },
     "execution_count": 22,
     "metadata": {},
     "output_type": "execute_result"
    }
   ],
   "source": [
    "small.argmax()"
   ]
  },
  {
   "cell_type": "code",
   "execution_count": 23,
   "id": "977e4f65",
   "metadata": {},
   "outputs": [
    {
     "data": {
      "text/plain": [
       "array([74.05999756, 74.28749847, 73.44750214, 74.95999908, 74.29000092,\n",
       "       76.80999756, 77.65000153, 77.91000366, 79.17500305, 77.96250153])"
      ]
     },
     "execution_count": 23,
     "metadata": {},
     "output_type": "execute_result"
    }
   ],
   "source": [
    "small"
   ]
  },
  {
   "cell_type": "code",
   "execution_count": 24,
   "id": "cac93654",
   "metadata": {},
   "outputs": [
    {
     "data": {
      "text/plain": [
       "79.17500305175781"
      ]
     },
     "execution_count": 24,
     "metadata": {},
     "output_type": "execute_result"
    }
   ],
   "source": [
    "small[small.argmax()]"
   ]
  },
  {
   "cell_type": "code",
   "execution_count": 25,
   "id": "cb926538",
   "metadata": {},
   "outputs": [
    {
     "data": {
      "text/plain": [
       "array([4.30487554, 4.30794268, 4.29657089, 4.31695463, 4.30797637,\n",
       "       4.34133481, 4.35221157, 4.35555436, 4.37166063, 4.35622796])"
      ]
     },
     "execution_count": 25,
     "metadata": {},
     "output_type": "execute_result"
    }
   ],
   "source": [
    "np.log(small)"
   ]
  },
  {
   "cell_type": "code",
   "execution_count": 26,
   "id": "2cc6481f",
   "metadata": {},
   "outputs": [
    {
     "data": {
      "text/html": [
       "<div>\n",
       "<style scoped>\n",
       "    .dataframe tbody tr th:only-of-type {\n",
       "        vertical-align: middle;\n",
       "    }\n",
       "\n",
       "    .dataframe tbody tr th {\n",
       "        vertical-align: top;\n",
       "    }\n",
       "\n",
       "    .dataframe thead th {\n",
       "        text-align: right;\n",
       "    }\n",
       "</style>\n",
       "<table border=\"1\" class=\"dataframe\">\n",
       "  <thead>\n",
       "    <tr style=\"text-align: right;\">\n",
       "      <th></th>\n",
       "      <th>Open</th>\n",
       "      <th>High</th>\n",
       "      <th>Low</th>\n",
       "      <th>Close</th>\n",
       "      <th>Adj Close</th>\n",
       "      <th>Volume</th>\n",
       "    </tr>\n",
       "    <tr>\n",
       "      <th>Date</th>\n",
       "      <th></th>\n",
       "      <th></th>\n",
       "      <th></th>\n",
       "      <th></th>\n",
       "      <th></th>\n",
       "      <th></th>\n",
       "    </tr>\n",
       "  </thead>\n",
       "  <tbody>\n",
       "    <tr>\n",
       "      <th>2020-01-02</th>\n",
       "      <td>4.304876</td>\n",
       "      <td>4.319486</td>\n",
       "      <td>4.301325</td>\n",
       "      <td>4.318654</td>\n",
       "      <td>4.296597</td>\n",
       "      <td>18.724338</td>\n",
       "    </tr>\n",
       "    <tr>\n",
       "      <th>2020-01-03</th>\n",
       "      <td>4.307943</td>\n",
       "      <td>4.319420</td>\n",
       "      <td>4.305753</td>\n",
       "      <td>4.308885</td>\n",
       "      <td>4.286827</td>\n",
       "      <td>18.801326</td>\n",
       "    </tr>\n",
       "    <tr>\n",
       "      <th>2020-01-06</th>\n",
       "      <td>4.296571</td>\n",
       "      <td>4.317355</td>\n",
       "      <td>4.293025</td>\n",
       "      <td>4.316821</td>\n",
       "      <td>4.294764</td>\n",
       "      <td>18.589471</td>\n",
       "    </tr>\n",
       "    <tr>\n",
       "      <th>2020-01-07</th>\n",
       "      <td>4.316955</td>\n",
       "      <td>4.320484</td>\n",
       "      <td>4.309053</td>\n",
       "      <td>4.312107</td>\n",
       "      <td>4.290049</td>\n",
       "      <td>18.505683</td>\n",
       "    </tr>\n",
       "    <tr>\n",
       "      <th>2020-01-08</th>\n",
       "      <td>4.307976</td>\n",
       "      <td>4.332180</td>\n",
       "      <td>4.307976</td>\n",
       "      <td>4.328065</td>\n",
       "      <td>4.306008</td>\n",
       "      <td>18.698912</td>\n",
       "    </tr>\n",
       "    <tr>\n",
       "      <th>...</th>\n",
       "      <td>...</td>\n",
       "      <td>...</td>\n",
       "      <td>...</td>\n",
       "      <td>...</td>\n",
       "      <td>...</td>\n",
       "      <td>...</td>\n",
       "    </tr>\n",
       "    <tr>\n",
       "      <th>2023-03-24</th>\n",
       "      <td>5.068023</td>\n",
       "      <td>5.077297</td>\n",
       "      <td>5.061645</td>\n",
       "      <td>5.076735</td>\n",
       "      <td>5.076735</td>\n",
       "      <td>17.896373</td>\n",
       "    </tr>\n",
       "    <tr>\n",
       "      <th>2023-03-27</th>\n",
       "      <td>5.074799</td>\n",
       "      <td>5.079975</td>\n",
       "      <td>5.061772</td>\n",
       "      <td>5.064366</td>\n",
       "      <td>5.064366</td>\n",
       "      <td>17.774232</td>\n",
       "    </tr>\n",
       "    <tr>\n",
       "      <th>2023-03-28</th>\n",
       "      <td>5.062405</td>\n",
       "      <td>5.065692</td>\n",
       "      <td>5.049728</td>\n",
       "      <td>5.060377</td>\n",
       "      <td>5.060377</td>\n",
       "      <td>17.643982</td>\n",
       "    </tr>\n",
       "    <tr>\n",
       "      <th>2023-03-29</th>\n",
       "      <td>5.071229</td>\n",
       "      <td>5.081715</td>\n",
       "      <td>5.071103</td>\n",
       "      <td>5.079975</td>\n",
       "      <td>5.079975</td>\n",
       "      <td>17.753312</td>\n",
       "    </tr>\n",
       "    <tr>\n",
       "      <th>2023-03-30</th>\n",
       "      <td>5.084691</td>\n",
       "      <td>5.090493</td>\n",
       "      <td>5.083080</td>\n",
       "      <td>5.089816</td>\n",
       "      <td>5.089816</td>\n",
       "      <td>17.716608</td>\n",
       "    </tr>\n",
       "  </tbody>\n",
       "</table>\n",
       "<p>817 rows × 6 columns</p>\n",
       "</div>"
      ],
      "text/plain": [
       "                Open      High       Low     Close  Adj Close     Volume\n",
       "Date                                                                    \n",
       "2020-01-02  4.304876  4.319486  4.301325  4.318654   4.296597  18.724338\n",
       "2020-01-03  4.307943  4.319420  4.305753  4.308885   4.286827  18.801326\n",
       "2020-01-06  4.296571  4.317355  4.293025  4.316821   4.294764  18.589471\n",
       "2020-01-07  4.316955  4.320484  4.309053  4.312107   4.290049  18.505683\n",
       "2020-01-08  4.307976  4.332180  4.307976  4.328065   4.306008  18.698912\n",
       "...              ...       ...       ...       ...        ...        ...\n",
       "2023-03-24  5.068023  5.077297  5.061645  5.076735   5.076735  17.896373\n",
       "2023-03-27  5.074799  5.079975  5.061772  5.064366   5.064366  17.774232\n",
       "2023-03-28  5.062405  5.065692  5.049728  5.060377   5.060377  17.643982\n",
       "2023-03-29  5.071229  5.081715  5.071103  5.079975   5.079975  17.753312\n",
       "2023-03-30  5.084691  5.090493  5.083080  5.089816   5.089816  17.716608\n",
       "\n",
       "[817 rows x 6 columns]"
      ]
     },
     "execution_count": 26,
     "metadata": {},
     "output_type": "execute_result"
    }
   ],
   "source": [
    "np.log(data)"
   ]
  },
  {
   "cell_type": "code",
   "execution_count": 27,
   "id": "812743a2",
   "metadata": {},
   "outputs": [
    {
     "data": {
      "text/html": [
       "<div>\n",
       "<style scoped>\n",
       "    .dataframe tbody tr th:only-of-type {\n",
       "        vertical-align: middle;\n",
       "    }\n",
       "\n",
       "    .dataframe tbody tr th {\n",
       "        vertical-align: top;\n",
       "    }\n",
       "\n",
       "    .dataframe thead th {\n",
       "        text-align: right;\n",
       "    }\n",
       "</style>\n",
       "<table border=\"1\" class=\"dataframe\">\n",
       "  <thead>\n",
       "    <tr style=\"text-align: right;\">\n",
       "      <th></th>\n",
       "      <th>Open</th>\n",
       "      <th>High</th>\n",
       "      <th>Low</th>\n",
       "      <th>Close</th>\n",
       "      <th>Adj Close</th>\n",
       "      <th>Volume</th>\n",
       "    </tr>\n",
       "    <tr>\n",
       "      <th>Date</th>\n",
       "      <th></th>\n",
       "      <th></th>\n",
       "      <th></th>\n",
       "      <th></th>\n",
       "      <th></th>\n",
       "      <th></th>\n",
       "    </tr>\n",
       "  </thead>\n",
       "  <tbody>\n",
       "    <tr>\n",
       "      <th>2020-01-02</th>\n",
       "      <td>NaN</td>\n",
       "      <td>NaN</td>\n",
       "      <td>NaN</td>\n",
       "      <td>NaN</td>\n",
       "      <td>NaN</td>\n",
       "      <td>NaN</td>\n",
       "    </tr>\n",
       "    <tr>\n",
       "      <th>2020-01-03</th>\n",
       "      <td>1.003072</td>\n",
       "      <td>0.999933</td>\n",
       "      <td>1.004438</td>\n",
       "      <td>0.990278</td>\n",
       "      <td>0.990278</td>\n",
       "      <td>1.080029</td>\n",
       "    </tr>\n",
       "    <tr>\n",
       "      <th>2020-01-06</th>\n",
       "      <td>0.988693</td>\n",
       "      <td>0.997937</td>\n",
       "      <td>0.987352</td>\n",
       "      <td>1.007968</td>\n",
       "      <td>1.007968</td>\n",
       "      <td>0.809082</td>\n",
       "    </tr>\n",
       "    <tr>\n",
       "      <th>2020-01-07</th>\n",
       "      <td>1.020593</td>\n",
       "      <td>1.003134</td>\n",
       "      <td>1.016157</td>\n",
       "      <td>0.995297</td>\n",
       "      <td>0.995297</td>\n",
       "      <td>0.919626</td>\n",
       "    </tr>\n",
       "    <tr>\n",
       "      <th>2020-01-08</th>\n",
       "      <td>0.991062</td>\n",
       "      <td>1.011765</td>\n",
       "      <td>0.998924</td>\n",
       "      <td>1.016086</td>\n",
       "      <td>1.016086</td>\n",
       "      <td>1.213160</td>\n",
       "    </tr>\n",
       "    <tr>\n",
       "      <th>...</th>\n",
       "      <td>...</td>\n",
       "      <td>...</td>\n",
       "      <td>...</td>\n",
       "      <td>...</td>\n",
       "      <td>...</td>\n",
       "      <td>...</td>\n",
       "    </tr>\n",
       "    <tr>\n",
       "      <th>2023-03-24</th>\n",
       "      <td>1.000189</td>\n",
       "      <td>0.992510</td>\n",
       "      <td>1.001078</td>\n",
       "      <td>1.008306</td>\n",
       "      <td>1.008306</td>\n",
       "      <td>0.875402</td>\n",
       "    </tr>\n",
       "    <tr>\n",
       "      <th>2023-03-27</th>\n",
       "      <td>1.006798</td>\n",
       "      <td>1.002682</td>\n",
       "      <td>1.000127</td>\n",
       "      <td>0.987707</td>\n",
       "      <td>0.987707</td>\n",
       "      <td>0.885024</td>\n",
       "    </tr>\n",
       "    <tr>\n",
       "      <th>2023-03-28</th>\n",
       "      <td>0.987683</td>\n",
       "      <td>0.985818</td>\n",
       "      <td>0.988028</td>\n",
       "      <td>0.996020</td>\n",
       "      <td>0.996020</td>\n",
       "      <td>0.877876</td>\n",
       "    </tr>\n",
       "    <tr>\n",
       "      <th>2023-03-29</th>\n",
       "      <td>1.008862</td>\n",
       "      <td>1.016152</td>\n",
       "      <td>1.021605</td>\n",
       "      <td>1.019791</td>\n",
       "      <td>1.019791</td>\n",
       "      <td>1.115530</td>\n",
       "    </tr>\n",
       "    <tr>\n",
       "      <th>2023-03-30</th>\n",
       "      <td>1.013553</td>\n",
       "      <td>1.008817</td>\n",
       "      <td>1.012049</td>\n",
       "      <td>1.009890</td>\n",
       "      <td>1.009890</td>\n",
       "      <td>0.963961</td>\n",
       "    </tr>\n",
       "  </tbody>\n",
       "</table>\n",
       "<p>817 rows × 6 columns</p>\n",
       "</div>"
      ],
      "text/plain": [
       "                Open      High       Low     Close  Adj Close    Volume\n",
       "Date                                                                   \n",
       "2020-01-02       NaN       NaN       NaN       NaN        NaN       NaN\n",
       "2020-01-03  1.003072  0.999933  1.004438  0.990278   0.990278  1.080029\n",
       "2020-01-06  0.988693  0.997937  0.987352  1.007968   1.007968  0.809082\n",
       "2020-01-07  1.020593  1.003134  1.016157  0.995297   0.995297  0.919626\n",
       "2020-01-08  0.991062  1.011765  0.998924  1.016086   1.016086  1.213160\n",
       "...              ...       ...       ...       ...        ...       ...\n",
       "2023-03-24  1.000189  0.992510  1.001078  1.008306   1.008306  0.875402\n",
       "2023-03-27  1.006798  1.002682  1.000127  0.987707   0.987707  0.885024\n",
       "2023-03-28  0.987683  0.985818  0.988028  0.996020   0.996020  0.877876\n",
       "2023-03-29  1.008862  1.016152  1.021605  1.019791   1.019791  1.115530\n",
       "2023-03-30  1.013553  1.008817  1.012049  1.009890   1.009890  0.963961\n",
       "\n",
       "[817 rows x 6 columns]"
      ]
     },
     "execution_count": 27,
     "metadata": {},
     "output_type": "execute_result"
    }
   ],
   "source": [
    "data/data.shift()"
   ]
  },
  {
   "cell_type": "code",
   "execution_count": 28,
   "id": "04738de1",
   "metadata": {},
   "outputs": [
    {
     "data": {
      "text/html": [
       "<div>\n",
       "<style scoped>\n",
       "    .dataframe tbody tr th:only-of-type {\n",
       "        vertical-align: middle;\n",
       "    }\n",
       "\n",
       "    .dataframe tbody tr th {\n",
       "        vertical-align: top;\n",
       "    }\n",
       "\n",
       "    .dataframe thead th {\n",
       "        text-align: right;\n",
       "    }\n",
       "</style>\n",
       "<table border=\"1\" class=\"dataframe\">\n",
       "  <thead>\n",
       "    <tr style=\"text-align: right;\">\n",
       "      <th></th>\n",
       "      <th>Open</th>\n",
       "      <th>High</th>\n",
       "      <th>Low</th>\n",
       "      <th>Close</th>\n",
       "      <th>Adj Close</th>\n",
       "      <th>Volume</th>\n",
       "    </tr>\n",
       "    <tr>\n",
       "      <th>Date</th>\n",
       "      <th></th>\n",
       "      <th></th>\n",
       "      <th></th>\n",
       "      <th></th>\n",
       "      <th></th>\n",
       "      <th></th>\n",
       "    </tr>\n",
       "  </thead>\n",
       "  <tbody>\n",
       "    <tr>\n",
       "      <th>2020-01-02</th>\n",
       "      <td>74.059998</td>\n",
       "      <td>75.150002</td>\n",
       "      <td>73.797501</td>\n",
       "      <td>75.087502</td>\n",
       "      <td>73.449394</td>\n",
       "      <td>135480400</td>\n",
       "    </tr>\n",
       "    <tr>\n",
       "      <th>2020-01-03</th>\n",
       "      <td>74.287498</td>\n",
       "      <td>75.144997</td>\n",
       "      <td>74.125000</td>\n",
       "      <td>74.357498</td>\n",
       "      <td>72.735336</td>\n",
       "      <td>146322800</td>\n",
       "    </tr>\n",
       "    <tr>\n",
       "      <th>2020-01-06</th>\n",
       "      <td>73.447502</td>\n",
       "      <td>74.989998</td>\n",
       "      <td>73.187500</td>\n",
       "      <td>74.949997</td>\n",
       "      <td>73.314888</td>\n",
       "      <td>118387200</td>\n",
       "    </tr>\n",
       "    <tr>\n",
       "      <th>2020-01-07</th>\n",
       "      <td>74.959999</td>\n",
       "      <td>75.224998</td>\n",
       "      <td>74.370003</td>\n",
       "      <td>74.597504</td>\n",
       "      <td>72.970078</td>\n",
       "      <td>108872000</td>\n",
       "    </tr>\n",
       "    <tr>\n",
       "      <th>2020-01-08</th>\n",
       "      <td>74.290001</td>\n",
       "      <td>76.110001</td>\n",
       "      <td>74.290001</td>\n",
       "      <td>75.797501</td>\n",
       "      <td>74.143898</td>\n",
       "      <td>132079200</td>\n",
       "    </tr>\n",
       "  </tbody>\n",
       "</table>\n",
       "</div>"
      ],
      "text/plain": [
       "                 Open       High        Low      Close  Adj Close     Volume\n",
       "Date                                                                        \n",
       "2020-01-02  74.059998  75.150002  73.797501  75.087502  73.449394  135480400\n",
       "2020-01-03  74.287498  75.144997  74.125000  74.357498  72.735336  146322800\n",
       "2020-01-06  73.447502  74.989998  73.187500  74.949997  73.314888  118387200\n",
       "2020-01-07  74.959999  75.224998  74.370003  74.597504  72.970078  108872000\n",
       "2020-01-08  74.290001  76.110001  74.290001  75.797501  74.143898  132079200"
      ]
     },
     "execution_count": 28,
     "metadata": {},
     "output_type": "execute_result"
    }
   ],
   "source": [
    "data.head()"
   ]
  },
  {
   "cell_type": "code",
   "execution_count": 29,
   "id": "f411a7a1",
   "metadata": {},
   "outputs": [
    {
     "data": {
      "text/plain": [
       "0.9999333998687053"
      ]
     },
     "execution_count": 29,
     "metadata": {},
     "output_type": "execute_result"
    }
   ],
   "source": [
    "75.144997/75.150002"
   ]
  },
  {
   "cell_type": "code",
   "execution_count": 30,
   "id": "409b38cc",
   "metadata": {},
   "outputs": [
    {
     "data": {
      "text/plain": [
       "Open         0.779815\n",
       "High         0.771007\n",
       "Low          0.781755\n",
       "Close        0.771162\n",
       "Adj Close    0.793219\n",
       "Volume      -1.007729\n",
       "dtype: float64"
      ]
     },
     "execution_count": 30,
     "metadata": {},
     "output_type": "execute_result"
    }
   ],
   "source": [
    "np.sum(np.log(data/data.shift()))"
   ]
  },
  {
   "cell_type": "code",
   "execution_count": 31,
   "id": "3c8eedde",
   "metadata": {},
   "outputs": [
    {
     "data": {
      "text/html": [
       "<div>\n",
       "<style scoped>\n",
       "    .dataframe tbody tr th:only-of-type {\n",
       "        vertical-align: middle;\n",
       "    }\n",
       "\n",
       "    .dataframe tbody tr th {\n",
       "        vertical-align: top;\n",
       "    }\n",
       "\n",
       "    .dataframe thead th {\n",
       "        text-align: right;\n",
       "    }\n",
       "</style>\n",
       "<table border=\"1\" class=\"dataframe\">\n",
       "  <thead>\n",
       "    <tr style=\"text-align: right;\">\n",
       "      <th></th>\n",
       "      <th>Open</th>\n",
       "      <th>High</th>\n",
       "      <th>Low</th>\n",
       "      <th>Close</th>\n",
       "      <th>Adj Close</th>\n",
       "      <th>Volume</th>\n",
       "    </tr>\n",
       "    <tr>\n",
       "      <th>Date</th>\n",
       "      <th></th>\n",
       "      <th></th>\n",
       "      <th></th>\n",
       "      <th></th>\n",
       "      <th></th>\n",
       "      <th></th>\n",
       "    </tr>\n",
       "  </thead>\n",
       "  <tbody>\n",
       "    <tr>\n",
       "      <th>2023-03-30</th>\n",
       "      <td>0.779815</td>\n",
       "      <td>0.771007</td>\n",
       "      <td>0.781755</td>\n",
       "      <td>0.771162</td>\n",
       "      <td>0.793219</td>\n",
       "      <td>-1.007729</td>\n",
       "    </tr>\n",
       "  </tbody>\n",
       "</table>\n",
       "</div>"
      ],
      "text/plain": [
       "                Open      High       Low     Close  Adj Close    Volume\n",
       "Date                                                                   \n",
       "2023-03-30  0.779815  0.771007  0.781755  0.771162   0.793219 -1.007729"
      ]
     },
     "execution_count": 31,
     "metadata": {},
     "output_type": "execute_result"
    }
   ],
   "source": [
    "np.log(data/data.iloc[0]).tail(1)"
   ]
  },
  {
   "cell_type": "code",
   "execution_count": 32,
   "id": "0a206e73",
   "metadata": {},
   "outputs": [
    {
     "data": {
      "text/plain": [
       "(10,)"
      ]
     },
     "execution_count": 32,
     "metadata": {},
     "output_type": "execute_result"
    }
   ],
   "source": [
    "small.shape"
   ]
  },
  {
   "cell_type": "code",
   "execution_count": 33,
   "id": "392e6e0c",
   "metadata": {},
   "outputs": [
    {
     "data": {
      "text/plain": [
       "array([74.05999756, 74.28749847, 73.44750214, 74.95999908, 74.29000092,\n",
       "       76.80999756, 77.65000153, 77.91000366, 79.17500305, 77.96250153])"
      ]
     },
     "execution_count": 33,
     "metadata": {},
     "output_type": "execute_result"
    }
   ],
   "source": [
    "small"
   ]
  },
  {
   "cell_type": "code",
   "execution_count": 34,
   "id": "bbd54e1f",
   "metadata": {},
   "outputs": [
    {
     "data": {
      "text/plain": [
       "array([[74.05999756, 74.28749847, 73.44750214, 74.95999908, 74.29000092],\n",
       "       [76.80999756, 77.65000153, 77.91000366, 79.17500305, 77.96250153]])"
      ]
     },
     "execution_count": 34,
     "metadata": {},
     "output_type": "execute_result"
    }
   ],
   "source": [
    "small.reshape(2, 5)"
   ]
  },
  {
   "cell_type": "code",
   "execution_count": 35,
   "id": "9d14f05e",
   "metadata": {},
   "outputs": [
    {
     "data": {
      "text/plain": [
       "array([[74.05999756],\n",
       "       [74.28749847],\n",
       "       [73.44750214],\n",
       "       [74.95999908],\n",
       "       [74.29000092],\n",
       "       [76.80999756],\n",
       "       [77.65000153],\n",
       "       [77.91000366],\n",
       "       [79.17500305],\n",
       "       [77.96250153]])"
      ]
     },
     "execution_count": 35,
     "metadata": {},
     "output_type": "execute_result"
    }
   ],
   "source": [
    "small.reshape(10, 1)"
   ]
  },
  {
   "cell_type": "code",
   "execution_count": 36,
   "id": "c387540c",
   "metadata": {},
   "outputs": [
    {
     "data": {
      "text/plain": [
       "array([[74.05999756],\n",
       "       [74.28749847],\n",
       "       [73.44750214],\n",
       "       [74.95999908],\n",
       "       [74.29000092],\n",
       "       [76.80999756],\n",
       "       [77.65000153],\n",
       "       [77.91000366],\n",
       "       [79.17500305],\n",
       "       [77.96250153]])"
      ]
     },
     "execution_count": 36,
     "metadata": {},
     "output_type": "execute_result"
    }
   ],
   "source": [
    "small.reshape(-1, 1)"
   ]
  },
  {
   "cell_type": "markdown",
   "id": "7f6519a5",
   "metadata": {},
   "source": [
    "### Portfolios"
   ]
  },
  {
   "cell_type": "code",
   "execution_count": 37,
   "id": "8a4c8076",
   "metadata": {},
   "outputs": [
    {
     "name": "stdout",
     "output_type": "stream",
     "text": [
      "[*********************100%***********************]  4 of 4 completed\n",
      "\n",
      "1 Failed download:\n",
      "- TWTR: No timezone found, symbol may be delisted\n"
     ]
    }
   ],
   "source": [
    "tickers = ['AAPL', 'MSFT', 'TWTR', 'IBM']\n",
    "start = dt.datetime(2020, 1, 1)\n",
    "\n",
    "data = pdr.get_data_yahoo(tickers, start)"
   ]
  },
  {
   "cell_type": "code",
   "execution_count": 38,
   "id": "5111017b",
   "metadata": {},
   "outputs": [
    {
     "data": {
      "text/html": [
       "<div>\n",
       "<style scoped>\n",
       "    .dataframe tbody tr th:only-of-type {\n",
       "        vertical-align: middle;\n",
       "    }\n",
       "\n",
       "    .dataframe tbody tr th {\n",
       "        vertical-align: top;\n",
       "    }\n",
       "\n",
       "    .dataframe thead tr th {\n",
       "        text-align: left;\n",
       "    }\n",
       "\n",
       "    .dataframe thead tr:last-of-type th {\n",
       "        text-align: right;\n",
       "    }\n",
       "</style>\n",
       "<table border=\"1\" class=\"dataframe\">\n",
       "  <thead>\n",
       "    <tr>\n",
       "      <th></th>\n",
       "      <th colspan=\"4\" halign=\"left\">Adj Close</th>\n",
       "      <th colspan=\"4\" halign=\"left\">Close</th>\n",
       "      <th colspan=\"2\" halign=\"left\">High</th>\n",
       "      <th>...</th>\n",
       "      <th colspan=\"2\" halign=\"left\">Low</th>\n",
       "      <th colspan=\"4\" halign=\"left\">Open</th>\n",
       "      <th colspan=\"4\" halign=\"left\">Volume</th>\n",
       "    </tr>\n",
       "    <tr>\n",
       "      <th></th>\n",
       "      <th>AAPL</th>\n",
       "      <th>IBM</th>\n",
       "      <th>MSFT</th>\n",
       "      <th>TWTR</th>\n",
       "      <th>AAPL</th>\n",
       "      <th>IBM</th>\n",
       "      <th>MSFT</th>\n",
       "      <th>TWTR</th>\n",
       "      <th>AAPL</th>\n",
       "      <th>IBM</th>\n",
       "      <th>...</th>\n",
       "      <th>MSFT</th>\n",
       "      <th>TWTR</th>\n",
       "      <th>AAPL</th>\n",
       "      <th>IBM</th>\n",
       "      <th>MSFT</th>\n",
       "      <th>TWTR</th>\n",
       "      <th>AAPL</th>\n",
       "      <th>IBM</th>\n",
       "      <th>MSFT</th>\n",
       "      <th>TWTR</th>\n",
       "    </tr>\n",
       "    <tr>\n",
       "      <th>Date</th>\n",
       "      <th></th>\n",
       "      <th></th>\n",
       "      <th></th>\n",
       "      <th></th>\n",
       "      <th></th>\n",
       "      <th></th>\n",
       "      <th></th>\n",
       "      <th></th>\n",
       "      <th></th>\n",
       "      <th></th>\n",
       "      <th></th>\n",
       "      <th></th>\n",
       "      <th></th>\n",
       "      <th></th>\n",
       "      <th></th>\n",
       "      <th></th>\n",
       "      <th></th>\n",
       "      <th></th>\n",
       "      <th></th>\n",
       "      <th></th>\n",
       "      <th></th>\n",
       "    </tr>\n",
       "  </thead>\n",
       "  <tbody>\n",
       "    <tr>\n",
       "      <th>2020-01-02 00:00:00</th>\n",
       "      <td>73.449387</td>\n",
       "      <td>110.232506</td>\n",
       "      <td>155.761780</td>\n",
       "      <td>NaN</td>\n",
       "      <td>75.087502</td>\n",
       "      <td>129.464630</td>\n",
       "      <td>160.619995</td>\n",
       "      <td>NaN</td>\n",
       "      <td>75.150002</td>\n",
       "      <td>129.942642</td>\n",
       "      <td>...</td>\n",
       "      <td>158.330002</td>\n",
       "      <td>NaN</td>\n",
       "      <td>74.059998</td>\n",
       "      <td>129.063095</td>\n",
       "      <td>158.779999</td>\n",
       "      <td>NaN</td>\n",
       "      <td>135480400</td>\n",
       "      <td>3293436</td>\n",
       "      <td>22622100</td>\n",
       "      <td>NaN</td>\n",
       "    </tr>\n",
       "    <tr>\n",
       "      <th>2020-01-03 00:00:00</th>\n",
       "      <td>72.735313</td>\n",
       "      <td>109.353386</td>\n",
       "      <td>153.822296</td>\n",
       "      <td>NaN</td>\n",
       "      <td>74.357498</td>\n",
       "      <td>128.432129</td>\n",
       "      <td>158.619995</td>\n",
       "      <td>NaN</td>\n",
       "      <td>75.144997</td>\n",
       "      <td>128.929260</td>\n",
       "      <td>...</td>\n",
       "      <td>158.059998</td>\n",
       "      <td>NaN</td>\n",
       "      <td>74.287498</td>\n",
       "      <td>127.695984</td>\n",
       "      <td>158.320007</td>\n",
       "      <td>NaN</td>\n",
       "      <td>146322800</td>\n",
       "      <td>2482890</td>\n",
       "      <td>21116200</td>\n",
       "      <td>NaN</td>\n",
       "    </tr>\n",
       "    <tr>\n",
       "      <th>2020-01-06 00:00:00</th>\n",
       "      <td>73.314888</td>\n",
       "      <td>109.158020</td>\n",
       "      <td>154.219940</td>\n",
       "      <td>NaN</td>\n",
       "      <td>74.949997</td>\n",
       "      <td>128.202682</td>\n",
       "      <td>159.029999</td>\n",
       "      <td>NaN</td>\n",
       "      <td>74.989998</td>\n",
       "      <td>128.336517</td>\n",
       "      <td>...</td>\n",
       "      <td>156.509995</td>\n",
       "      <td>NaN</td>\n",
       "      <td>73.447502</td>\n",
       "      <td>127.552582</td>\n",
       "      <td>157.080002</td>\n",
       "      <td>NaN</td>\n",
       "      <td>118387200</td>\n",
       "      <td>2537073</td>\n",
       "      <td>20813700</td>\n",
       "      <td>NaN</td>\n",
       "    </tr>\n",
       "    <tr>\n",
       "      <th>2020-01-07 00:00:00</th>\n",
       "      <td>72.970093</td>\n",
       "      <td>109.231262</td>\n",
       "      <td>152.813751</td>\n",
       "      <td>NaN</td>\n",
       "      <td>74.597504</td>\n",
       "      <td>128.288712</td>\n",
       "      <td>157.580002</td>\n",
       "      <td>NaN</td>\n",
       "      <td>75.224998</td>\n",
       "      <td>129.024857</td>\n",
       "      <td>...</td>\n",
       "      <td>157.320007</td>\n",
       "      <td>NaN</td>\n",
       "      <td>74.959999</td>\n",
       "      <td>127.810707</td>\n",
       "      <td>159.320007</td>\n",
       "      <td>NaN</td>\n",
       "      <td>108872000</td>\n",
       "      <td>3232977</td>\n",
       "      <td>21634100</td>\n",
       "      <td>NaN</td>\n",
       "    </tr>\n",
       "    <tr>\n",
       "      <th>2020-01-08 00:00:00</th>\n",
       "      <td>74.143898</td>\n",
       "      <td>110.142975</td>\n",
       "      <td>155.247833</td>\n",
       "      <td>NaN</td>\n",
       "      <td>75.797501</td>\n",
       "      <td>129.359467</td>\n",
       "      <td>160.089996</td>\n",
       "      <td>NaN</td>\n",
       "      <td>76.110001</td>\n",
       "      <td>129.885284</td>\n",
       "      <td>...</td>\n",
       "      <td>157.949997</td>\n",
       "      <td>NaN</td>\n",
       "      <td>74.290001</td>\n",
       "      <td>128.594650</td>\n",
       "      <td>158.929993</td>\n",
       "      <td>NaN</td>\n",
       "      <td>132079200</td>\n",
       "      <td>4545916</td>\n",
       "      <td>27746500</td>\n",
       "      <td>NaN</td>\n",
       "    </tr>\n",
       "  </tbody>\n",
       "</table>\n",
       "<p>5 rows × 24 columns</p>\n",
       "</div>"
      ],
      "text/plain": [
       "                     Adj Close                                   Close  \\\n",
       "                          AAPL         IBM        MSFT TWTR       AAPL   \n",
       "Date                                                                     \n",
       "2020-01-02 00:00:00  73.449387  110.232506  155.761780  NaN  75.087502   \n",
       "2020-01-03 00:00:00  72.735313  109.353386  153.822296  NaN  74.357498   \n",
       "2020-01-06 00:00:00  73.314888  109.158020  154.219940  NaN  74.949997   \n",
       "2020-01-07 00:00:00  72.970093  109.231262  152.813751  NaN  74.597504   \n",
       "2020-01-08 00:00:00  74.143898  110.142975  155.247833  NaN  75.797501   \n",
       "\n",
       "                                                       High              ...  \\\n",
       "                            IBM        MSFT TWTR       AAPL         IBM  ...   \n",
       "Date                                                                     ...   \n",
       "2020-01-02 00:00:00  129.464630  160.619995  NaN  75.150002  129.942642  ...   \n",
       "2020-01-03 00:00:00  128.432129  158.619995  NaN  75.144997  128.929260  ...   \n",
       "2020-01-06 00:00:00  128.202682  159.029999  NaN  74.989998  128.336517  ...   \n",
       "2020-01-07 00:00:00  128.288712  157.580002  NaN  75.224998  129.024857  ...   \n",
       "2020-01-08 00:00:00  129.359467  160.089996  NaN  76.110001  129.885284  ...   \n",
       "\n",
       "                            Low            Open                               \\\n",
       "                           MSFT TWTR       AAPL         IBM        MSFT TWTR   \n",
       "Date                                                                           \n",
       "2020-01-02 00:00:00  158.330002  NaN  74.059998  129.063095  158.779999  NaN   \n",
       "2020-01-03 00:00:00  158.059998  NaN  74.287498  127.695984  158.320007  NaN   \n",
       "2020-01-06 00:00:00  156.509995  NaN  73.447502  127.552582  157.080002  NaN   \n",
       "2020-01-07 00:00:00  157.320007  NaN  74.959999  127.810707  159.320007  NaN   \n",
       "2020-01-08 00:00:00  157.949997  NaN  74.290001  128.594650  158.929993  NaN   \n",
       "\n",
       "                        Volume                          \n",
       "                          AAPL      IBM      MSFT TWTR  \n",
       "Date                                                    \n",
       "2020-01-02 00:00:00  135480400  3293436  22622100  NaN  \n",
       "2020-01-03 00:00:00  146322800  2482890  21116200  NaN  \n",
       "2020-01-06 00:00:00  118387200  2537073  20813700  NaN  \n",
       "2020-01-07 00:00:00  108872000  3232977  21634100  NaN  \n",
       "2020-01-08 00:00:00  132079200  4545916  27746500  NaN  \n",
       "\n",
       "[5 rows x 24 columns]"
      ]
     },
     "execution_count": 38,
     "metadata": {},
     "output_type": "execute_result"
    }
   ],
   "source": [
    "data.head()"
   ]
  },
  {
   "cell_type": "code",
   "execution_count": 39,
   "id": "162fae5c",
   "metadata": {},
   "outputs": [],
   "source": [
    "data = data['Adj Close']"
   ]
  },
  {
   "cell_type": "code",
   "execution_count": 40,
   "id": "8ed3b90d",
   "metadata": {},
   "outputs": [
    {
     "data": {
      "text/html": [
       "<div>\n",
       "<style scoped>\n",
       "    .dataframe tbody tr th:only-of-type {\n",
       "        vertical-align: middle;\n",
       "    }\n",
       "\n",
       "    .dataframe tbody tr th {\n",
       "        vertical-align: top;\n",
       "    }\n",
       "\n",
       "    .dataframe thead th {\n",
       "        text-align: right;\n",
       "    }\n",
       "</style>\n",
       "<table border=\"1\" class=\"dataframe\">\n",
       "  <thead>\n",
       "    <tr style=\"text-align: right;\">\n",
       "      <th></th>\n",
       "      <th>AAPL</th>\n",
       "      <th>IBM</th>\n",
       "      <th>MSFT</th>\n",
       "      <th>TWTR</th>\n",
       "    </tr>\n",
       "    <tr>\n",
       "      <th>Date</th>\n",
       "      <th></th>\n",
       "      <th></th>\n",
       "      <th></th>\n",
       "      <th></th>\n",
       "    </tr>\n",
       "  </thead>\n",
       "  <tbody>\n",
       "    <tr>\n",
       "      <th>2020-01-02 00:00:00</th>\n",
       "      <td>73.449387</td>\n",
       "      <td>110.232506</td>\n",
       "      <td>155.761780</td>\n",
       "      <td>NaN</td>\n",
       "    </tr>\n",
       "    <tr>\n",
       "      <th>2020-01-03 00:00:00</th>\n",
       "      <td>72.735313</td>\n",
       "      <td>109.353386</td>\n",
       "      <td>153.822296</td>\n",
       "      <td>NaN</td>\n",
       "    </tr>\n",
       "    <tr>\n",
       "      <th>2020-01-06 00:00:00</th>\n",
       "      <td>73.314888</td>\n",
       "      <td>109.158020</td>\n",
       "      <td>154.219940</td>\n",
       "      <td>NaN</td>\n",
       "    </tr>\n",
       "    <tr>\n",
       "      <th>2020-01-07 00:00:00</th>\n",
       "      <td>72.970093</td>\n",
       "      <td>109.231262</td>\n",
       "      <td>152.813751</td>\n",
       "      <td>NaN</td>\n",
       "    </tr>\n",
       "    <tr>\n",
       "      <th>2020-01-08 00:00:00</th>\n",
       "      <td>74.143898</td>\n",
       "      <td>110.142975</td>\n",
       "      <td>155.247833</td>\n",
       "      <td>NaN</td>\n",
       "    </tr>\n",
       "  </tbody>\n",
       "</table>\n",
       "</div>"
      ],
      "text/plain": [
       "                          AAPL         IBM        MSFT  TWTR\n",
       "Date                                                        \n",
       "2020-01-02 00:00:00  73.449387  110.232506  155.761780   NaN\n",
       "2020-01-03 00:00:00  72.735313  109.353386  153.822296   NaN\n",
       "2020-01-06 00:00:00  73.314888  109.158020  154.219940   NaN\n",
       "2020-01-07 00:00:00  72.970093  109.231262  152.813751   NaN\n",
       "2020-01-08 00:00:00  74.143898  110.142975  155.247833   NaN"
      ]
     },
     "execution_count": 40,
     "metadata": {},
     "output_type": "execute_result"
    }
   ],
   "source": [
    "data.head()"
   ]
  },
  {
   "cell_type": "code",
   "execution_count": 41,
   "id": "67f84e45",
   "metadata": {},
   "outputs": [],
   "source": [
    "portfolios = [.25, .15, .40, .20]"
   ]
  },
  {
   "cell_type": "code",
   "execution_count": 42,
   "id": "acbf8201",
   "metadata": {},
   "outputs": [
    {
     "data": {
      "text/plain": [
       "1.0"
      ]
     },
     "execution_count": 42,
     "metadata": {},
     "output_type": "execute_result"
    }
   ],
   "source": [
    "np.sum(portfolios)"
   ]
  },
  {
   "cell_type": "code",
   "execution_count": 43,
   "id": "8af88308",
   "metadata": {},
   "outputs": [
    {
     "data": {
      "text/html": [
       "<div>\n",
       "<style scoped>\n",
       "    .dataframe tbody tr th:only-of-type {\n",
       "        vertical-align: middle;\n",
       "    }\n",
       "\n",
       "    .dataframe tbody tr th {\n",
       "        vertical-align: top;\n",
       "    }\n",
       "\n",
       "    .dataframe thead th {\n",
       "        text-align: right;\n",
       "    }\n",
       "</style>\n",
       "<table border=\"1\" class=\"dataframe\">\n",
       "  <thead>\n",
       "    <tr style=\"text-align: right;\">\n",
       "      <th></th>\n",
       "      <th>AAPL</th>\n",
       "      <th>IBM</th>\n",
       "      <th>MSFT</th>\n",
       "      <th>TWTR</th>\n",
       "    </tr>\n",
       "    <tr>\n",
       "      <th>Date</th>\n",
       "      <th></th>\n",
       "      <th></th>\n",
       "      <th></th>\n",
       "      <th></th>\n",
       "    </tr>\n",
       "  </thead>\n",
       "  <tbody>\n",
       "    <tr>\n",
       "      <th>2020-01-02</th>\n",
       "      <td>25000.000000</td>\n",
       "      <td>15000.000000</td>\n",
       "      <td>40000.000000</td>\n",
       "      <td>NaN</td>\n",
       "    </tr>\n",
       "    <tr>\n",
       "      <th>2020-01-03</th>\n",
       "      <td>24756.950597</td>\n",
       "      <td>14880.372872</td>\n",
       "      <td>39501.935932</td>\n",
       "      <td>NaN</td>\n",
       "    </tr>\n",
       "    <tr>\n",
       "      <th>2020-01-06</th>\n",
       "      <td>24954.220654</td>\n",
       "      <td>14853.788258</td>\n",
       "      <td>39604.051879</td>\n",
       "      <td>NaN</td>\n",
       "    </tr>\n",
       "    <tr>\n",
       "      <th>2020-01-07</th>\n",
       "      <td>24836.862551</td>\n",
       "      <td>14863.754763</td>\n",
       "      <td>39242.939168</td>\n",
       "      <td>NaN</td>\n",
       "    </tr>\n",
       "    <tr>\n",
       "      <th>2020-01-08</th>\n",
       "      <td>25236.391155</td>\n",
       "      <td>14987.816986</td>\n",
       "      <td>39868.017293</td>\n",
       "      <td>NaN</td>\n",
       "    </tr>\n",
       "    <tr>\n",
       "      <th>...</th>\n",
       "      <td>...</td>\n",
       "      <td>...</td>\n",
       "      <td>...</td>\n",
       "      <td>...</td>\n",
       "    </tr>\n",
       "    <tr>\n",
       "      <th>2023-03-24</th>\n",
       "      <td>54544.362937</td>\n",
       "      <td>17048.963916</td>\n",
       "      <td>72051.053272</td>\n",
       "      <td>NaN</td>\n",
       "    </tr>\n",
       "    <tr>\n",
       "      <th>2023-03-27</th>\n",
       "      <td>53873.832755</td>\n",
       "      <td>17595.989035</td>\n",
       "      <td>70975.050558</td>\n",
       "      <td>NaN</td>\n",
       "    </tr>\n",
       "    <tr>\n",
       "      <th>2023-03-28</th>\n",
       "      <td>53659.397716</td>\n",
       "      <td>17600.071150</td>\n",
       "      <td>70679.729357</td>\n",
       "      <td>NaN</td>\n",
       "    </tr>\n",
       "    <tr>\n",
       "      <th>2023-03-29</th>\n",
       "      <td>54721.357019</td>\n",
       "      <td>17650.420687</td>\n",
       "      <td>72035.645754</td>\n",
       "      <td>NaN</td>\n",
       "    </tr>\n",
       "    <tr>\n",
       "      <th>2023-03-30</th>\n",
       "      <td>55262.544772</td>\n",
       "      <td>17583.742693</td>\n",
       "      <td>72944.720633</td>\n",
       "      <td>NaN</td>\n",
       "    </tr>\n",
       "  </tbody>\n",
       "</table>\n",
       "<p>817 rows × 4 columns</p>\n",
       "</div>"
      ],
      "text/plain": [
       "                    AAPL           IBM          MSFT  TWTR\n",
       "Date                                                      \n",
       "2020-01-02  25000.000000  15000.000000  40000.000000   NaN\n",
       "2020-01-03  24756.950597  14880.372872  39501.935932   NaN\n",
       "2020-01-06  24954.220654  14853.788258  39604.051879   NaN\n",
       "2020-01-07  24836.862551  14863.754763  39242.939168   NaN\n",
       "2020-01-08  25236.391155  14987.816986  39868.017293   NaN\n",
       "...                  ...           ...           ...   ...\n",
       "2023-03-24  54544.362937  17048.963916  72051.053272   NaN\n",
       "2023-03-27  53873.832755  17595.989035  70975.050558   NaN\n",
       "2023-03-28  53659.397716  17600.071150  70679.729357   NaN\n",
       "2023-03-29  54721.357019  17650.420687  72035.645754   NaN\n",
       "2023-03-30  55262.544772  17583.742693  72944.720633   NaN\n",
       "\n",
       "[817 rows x 4 columns]"
      ]
     },
     "execution_count": 43,
     "metadata": {},
     "output_type": "execute_result"
    }
   ],
   "source": [
    "(data/data.iloc[0])*portfolios*100000"
   ]
  },
  {
   "cell_type": "code",
   "execution_count": 44,
   "id": "8dd51b81",
   "metadata": {},
   "outputs": [
    {
     "data": {
      "text/plain": [
       "array([0.41633123, 0.13015255, 0.21382379, 0.23969242])"
      ]
     },
     "execution_count": 44,
     "metadata": {},
     "output_type": "execute_result"
    }
   ],
   "source": [
    "weight = np.random.random(4)\n",
    "weight /= weight.sum()\n",
    "weight"
   ]
  },
  {
   "cell_type": "code",
   "execution_count": 45,
   "id": "797e37ea",
   "metadata": {},
   "outputs": [
    {
     "data": {
      "text/plain": [
       "1.0"
      ]
     },
     "execution_count": 45,
     "metadata": {},
     "output_type": "execute_result"
    }
   ],
   "source": [
    "weight.sum()"
   ]
  },
  {
   "cell_type": "code",
   "execution_count": 46,
   "id": "43fd4b0b",
   "metadata": {},
   "outputs": [
    {
     "data": {
      "text/plain": [
       "Date\n",
       "2020-01-02     80000.000000\n",
       "2020-01-03     79139.259401\n",
       "2020-01-06     79412.060791\n",
       "2020-01-07     78943.556482\n",
       "2020-01-08     80092.225434\n",
       "                  ...      \n",
       "2023-03-24    143644.380124\n",
       "2023-03-27    142444.872349\n",
       "2023-03-28    141939.198224\n",
       "2023-03-29    144407.423460\n",
       "2023-03-30    145791.008097\n",
       "Length: 817, dtype: float64"
      ]
     },
     "execution_count": 46,
     "metadata": {},
     "output_type": "execute_result"
    }
   ],
   "source": [
    "np.sum((data/data.iloc[0])*portfolios*100000, axis=1)"
   ]
  },
  {
   "cell_type": "code",
   "execution_count": 47,
   "id": "da5653cd",
   "metadata": {},
   "outputs": [
    {
     "data": {
      "text/plain": [
       "Date\n",
       "2020-01-02     76030.757728\n",
       "2020-01-03     75255.958122\n",
       "2020-01-06     75615.996873\n",
       "2020-01-07     75236.169049\n",
       "2020-01-08     76343.302197\n",
       "                  ...      \n",
       "2023-03-24    144142.768489\n",
       "2023-03-27    142925.575195\n",
       "2023-03-28    142414.146418\n",
       "2023-03-29    144951.159145\n",
       "2023-03-30    146280.511783\n",
       "Length: 817, dtype: float64"
      ]
     },
     "execution_count": 47,
     "metadata": {},
     "output_type": "execute_result"
    }
   ],
   "source": [
    "np.sum((data/data.iloc[0])*weight*100000, axis=1)"
   ]
  },
  {
   "cell_type": "code",
   "execution_count": null,
   "id": "572673ad",
   "metadata": {},
   "outputs": [],
   "source": []
  }
 ],
 "metadata": {
  "kernelspec": {
   "display_name": "Python 3 (ipykernel)",
   "language": "python",
   "name": "python3"
  },
  "language_info": {
   "codemirror_mode": {
    "name": "ipython",
    "version": 3
   },
   "file_extension": ".py",
   "mimetype": "text/x-python",
   "name": "python",
   "nbconvert_exporter": "python",
   "pygments_lexer": "ipython3",
   "version": "3.9.13"
  }
 },
 "nbformat": 4,
 "nbformat_minor": 5
}
