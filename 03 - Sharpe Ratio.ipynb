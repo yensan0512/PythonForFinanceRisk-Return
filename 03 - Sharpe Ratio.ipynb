{
 "cells": [
  {
   "cell_type": "markdown",
   "id": "1954e064",
   "metadata": {},
   "source": [
    "# Sharpe Ratio\n",
    "- Represents both the risk and return\n",
    "- Developed by Nobel laureate William F. Sharpe and is used to help investors understand the return of an investment compared to its risk."
   ]
  },
  {
   "cell_type": "markdown",
   "id": "b4df337a",
   "metadata": {},
   "source": [
    "### Formula\n",
    "\n",
    "$SR = \\frac{R_p - R_f}{\\sigma_p}$\n",
    "- $SR$: Sharpe ratio\n",
    "- $R_p$: return of portfolio\n",
    "- $R_f$: risk free return\n",
    "- $\\sigma_p$: standard deviation of portfolio\n",
    "\n",
    "Goal is to get high $SR$. "
   ]
  },
  {
   "cell_type": "markdown",
   "id": "9d96492e",
   "metadata": {},
   "source": [
    "### Need to understand\n",
    "- Portfolio return (done in part 1)\n",
    "- Risk free return\n",
    "- Standard deviation of portfolio (or the risk)"
   ]
  },
  {
   "cell_type": "markdown",
   "id": "2b078745",
   "metadata": {},
   "source": [
    "### Resources\n",
    "- **Risk free return** 10 Year Treasury Note https://www.treasury.gov/resource-center/data-chart-center/interest-rates/pages/textview.aspx?data=yield\n",
    "- Sharpe Ratio https://www.investopedia.com/terms/s/sharperatio.asp\n",
    "- Standard deviation https://www.investopedia.com/terms/s/standarddeviation.asp"
   ]
  },
  {
   "cell_type": "code",
   "execution_count": null,
   "id": "7028f531",
   "metadata": {},
   "outputs": [],
   "source": [
    "import numpy as np\n",
    "import pandas_datareader as pdr\n",
    "import datetime as dt\n",
    "import pandas as pd"
   ]
  },
  {
   "cell_type": "code",
   "execution_count": null,
   "id": "2a018f03",
   "metadata": {},
   "outputs": [],
   "source": [
    "tickers = ['AAPL', 'MSFT', 'TWTR', 'IBM']\n",
    "start = dt.datetime(2020, 1, 1)\n",
    "\n",
    "data = pdr.get_data_yahoo(tickers, start)"
   ]
  },
  {
   "cell_type": "code",
   "execution_count": null,
   "id": "ffc095cc",
   "metadata": {},
   "outputs": [],
   "source": [
    "data.head()"
   ]
  },
  {
   "cell_type": "code",
   "execution_count": null,
   "id": "b17aa194",
   "metadata": {},
   "outputs": [],
   "source": [
    "data = data['Adj Close']"
   ]
  },
  {
   "cell_type": "code",
   "execution_count": null,
   "id": "ee5b7a8a",
   "metadata": {
    "scrolled": true
   },
   "outputs": [],
   "source": [
    "data"
   ]
  },
  {
   "cell_type": "code",
   "execution_count": null,
   "id": "acd58ca7",
   "metadata": {},
   "outputs": [],
   "source": [
    "portfolio = [.25, .15, .40, .20]"
   ]
  },
  {
   "cell_type": "code",
   "execution_count": null,
   "id": "5675c0dd",
   "metadata": {},
   "outputs": [],
   "source": [
    "np.sum(portfolio)"
   ]
  },
  {
   "cell_type": "code",
   "execution_count": null,
   "id": "f8bdaecf",
   "metadata": {
    "scrolled": true
   },
   "outputs": [],
   "source": [
    "np.sum(np.log(data/data.shift())*portfolio, axis=1)"
   ]
  },
  {
   "cell_type": "code",
   "execution_count": null,
   "id": "ae8e6db5",
   "metadata": {},
   "outputs": [],
   "source": [
    "log_return = np.sum(np.log(data/data.shift())*portfolio, axis=1)"
   ]
  },
  {
   "cell_type": "code",
   "execution_count": null,
   "id": "c0ab5e53",
   "metadata": {},
   "outputs": [],
   "source": [
    "log_return"
   ]
  },
  {
   "cell_type": "code",
   "execution_count": null,
   "id": "9e817f9a",
   "metadata": {},
   "outputs": [],
   "source": [
    "import matplotlib.pyplot as plt\n",
    "%matplotlib notebook"
   ]
  },
  {
   "cell_type": "code",
   "execution_count": null,
   "id": "1f9a73fb",
   "metadata": {},
   "outputs": [],
   "source": [
    "fig, ax = plt.subplots()\n",
    "log_return.hist(bins=50, ax=ax)"
   ]
  },
  {
   "cell_type": "code",
   "execution_count": null,
   "id": "6579db3a",
   "metadata": {},
   "outputs": [],
   "source": [
    "log_return.std()"
   ]
  },
  {
   "cell_type": "code",
   "execution_count": null,
   "id": "f3438d92",
   "metadata": {},
   "outputs": [],
   "source": [
    "log_return.mean()"
   ]
  },
  {
   "cell_type": "code",
   "execution_count": null,
   "id": "1d89833b",
   "metadata": {},
   "outputs": [],
   "source": [
    "sharpe_ratio = log_return.mean()/log_return.std()"
   ]
  },
  {
   "cell_type": "code",
   "execution_count": null,
   "id": "da241cbd",
   "metadata": {},
   "outputs": [],
   "source": [
    "sharpe_ratio"
   ]
  },
  {
   "cell_type": "code",
   "execution_count": null,
   "id": "15c909c1",
   "metadata": {},
   "outputs": [],
   "source": [
    "asr = sharpe_ratio*252**.5"
   ]
  },
  {
   "cell_type": "code",
   "execution_count": null,
   "id": "5c8a1abd",
   "metadata": {},
   "outputs": [],
   "source": [
    "asr"
   ]
  },
  {
   "cell_type": "code",
   "execution_count": null,
   "id": "8c328e2a",
   "metadata": {},
   "outputs": [],
   "source": [
    "weight = np.random.random(4)\n",
    "weight /= weight.sum()\n",
    "weight"
   ]
  },
  {
   "cell_type": "code",
   "execution_count": null,
   "id": "79e33e9f",
   "metadata": {},
   "outputs": [],
   "source": [
    "log_return2 = np.sum(np.log(data/data.shift())*weight, axis=1)"
   ]
  },
  {
   "cell_type": "code",
   "execution_count": null,
   "id": "a3a28994",
   "metadata": {},
   "outputs": [],
   "source": [
    "sharpe_ratio2 = log_return2.mean()/log_return2.std()"
   ]
  },
  {
   "cell_type": "code",
   "execution_count": null,
   "id": "7ef8a8d1",
   "metadata": {},
   "outputs": [],
   "source": [
    "asr2 = sharpe_ratio2*252**.5"
   ]
  },
  {
   "cell_type": "code",
   "execution_count": null,
   "id": "f5f000c6",
   "metadata": {},
   "outputs": [],
   "source": [
    "asr2"
   ]
  },
  {
   "cell_type": "code",
   "execution_count": null,
   "id": "c151b33e",
   "metadata": {},
   "outputs": [],
   "source": []
  }
 ],
 "metadata": {
  "kernelspec": {
   "display_name": "Python 3 (ipykernel)",
   "language": "python",
   "name": "python3"
  },
  "language_info": {
   "codemirror_mode": {
    "name": "ipython",
    "version": 3
   },
   "file_extension": ".py",
   "mimetype": "text/x-python",
   "name": "python",
   "nbconvert_exporter": "python",
   "pygments_lexer": "ipython3",
   "version": "3.9.13"
  }
 },
 "nbformat": 4,
 "nbformat_minor": 5
}
